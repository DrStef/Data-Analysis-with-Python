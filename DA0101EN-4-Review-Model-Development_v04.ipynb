{
 "cells": [
  {
   "cell_type": "markdown",
   "metadata": {},
   "source": [
    "<center>\n",
    "    <img src=\"https://cf-courses-data.s3.us.cloud-object-storage.appdomain.cloud/IBMDeveloperSkillsNetwork-DA0101EN-SkillsNetwork/labs/Module%204/images/IDSNlogo.png\" width=\"300\" alt=\"cognitiveclass.ai logo\"  />\n",
    "</center>\n",
    "\n",
    "# Model Development\n",
    "\n",
    "Stephane Dedieu, April 2022 <br>\n",
    "Rev. December 2022. <br>\n",
    "Updated, replaced obsolete functions, added statistics, improved graphs.  \n",
    "\n",
    "\n",
    "## Objectives\n",
    "\n",
    "After completing this lab you will be able to Develop prediction models\n",
    "\n",
    "\n",
    "<p>In this section, we will develop several models that will predict the price of the car using the variables or features. This is just an estimate but should give us an objective idea of how much the car should cost.</p>\n",
    "\n",
    "Some questions we want to ask in this module\n",
    "\n",
    "<ul>\n",
    "    <li>Do I know if the dealer is offering fair value for my trade-in?</li>\n",
    "    <li>Do I know if I put a fair value on my car?</li>\n",
    "</ul>\n",
    "<p>In data analytics, we often use <b>Model Development</b> to help us predict future observations from the data we have.</p>\n",
    "\n",
    "<p>A model will help us understand the exact relationship between different variables and how these variables are used to predict the result.</p>\n",
    "\n"
   ]
  },
  {
   "cell_type": "markdown",
   "metadata": {},
   "source": [
    "<div class=\"alert alert-block alert-info\" style=\"margin-top: 20px\">\n",
    "\n",
    "<h2>Table of content</h2>\n",
    "    <br>\n",
    "<b>\n",
    "1. Linear Regression and Multiple Linear Regression <br>\n",
    "2. Model Evaluation Using Visualization <br>\n",
    "3. Polynomial Regression and Pipelines <br>\n",
    "4. Measures for In-Sample Evaluation <br>\n",
    "</b>"
   ]
  },
  {
   "cell_type": "markdown",
   "metadata": {},
   "source": [
    "<h4>Setup</h4>\n"
   ]
  },
  {
   "cell_type": "markdown",
   "metadata": {},
   "source": [
    "Import libraries:\n",
    "\n",
    "<span style=\"color:#4169E1\">  <b>Note: we run all Jupyter Notebook locally using Anaconda. <br> \n",
    "All relavant libraries are installed already. </b> "
   ]
  },
  {
   "cell_type": "raw",
   "metadata": {},
   "source": [
    "you are running the lab in your  browser, so we will install the libraries using `piplite`"
   ]
  },
  {
   "cell_type": "raw",
   "metadata": {},
   "source": [
    "#you are running the lab in your  browser, so we will install the libraries using ``piplite``\n",
    "#import piplite\n",
    "#await piplite.install(['pandas'])\n",
    "#await piplite.install(['matplotlib'])\n",
    "#await piplite.install(['scipy'])\n",
    "#await piplite.install(['seaborn'])\n",
    "#await piplite.install(['scikit-learn'])"
   ]
  },
  {
   "cell_type": "raw",
   "metadata": {},
   "source": [
    "If you run the lab locally using Anaconda, you can load the correct library and versions by uncommenting the following:"
   ]
  },
  {
   "cell_type": "raw",
   "metadata": {},
   "source": [
    "#If you run the lab locally using Anaconda, you can load the correct library and versions by uncommenting the following:\n",
    "#install specific version of libraries used in lab\n",
    "#! mamba install pandas==1.3.3-y\n",
    "#! mamba install numpy=1.21.2-y\n",
    "#!pip install sklearn"
   ]
  },
  {
   "cell_type": "code",
   "execution_count": 1,
   "metadata": {},
   "outputs": [],
   "source": [
    "import pandas as pd\n",
    "import numpy as np\n",
    "import matplotlib.pyplot as plt"
   ]
  },
  {
   "cell_type": "markdown",
   "metadata": {},
   "source": [
    "This function will download the dataset into your browser\n"
   ]
  },
  {
   "cell_type": "raw",
   "metadata": {},
   "source": [
    "#This function will download the dataset into your browser \n",
    "\n",
    "from pyodide.http import pyfetch\n",
    "\n",
    "async def download(url, filename):\n",
    "    response = await pyfetch(url)\n",
    "    if response.status == 200:\n",
    "        with open(filename, \"wb\") as f:\n",
    "            f.write(await response.bytes())"
   ]
  },
  {
   "cell_type": "markdown",
   "metadata": {},
   "source": [
    "This dataset was hosted on IBM Cloud object. Click <a href=\"https://cocl.us/DA101EN_object_storage?utm_medium=Exinfluencer&utm_source=Exinfluencer&utm_content=000026UJ&utm_term=10006555&utm_id=NA-SkillsNetwork-Channel-SkillsNetworkCoursesIBMDeveloperSkillsNetworkDA0101ENSkillsNetwork20235326-2021-01-01\">HERE</a> for free storage.\n"
   ]
  },
  {
   "cell_type": "code",
   "execution_count": 2,
   "metadata": {},
   "outputs": [],
   "source": [
    "path = 'https://cf-courses-data.s3.us.cloud-object-storage.appdomain.cloud/IBMDeveloperSkillsNetwork-DA0101EN-SkillsNetwork/labs/Data%20files/automobileEDA.csv'"
   ]
  },
  {
   "cell_type": "markdown",
   "metadata": {},
   "source": [
    "you will need to download the dataset; if you are running locally, please comment out the following\n"
   ]
  },
  {
   "cell_type": "code",
   "execution_count": 3,
   "metadata": {},
   "outputs": [],
   "source": [
    "#path='https://cf-courses-data.s3.us.cloud-object-storage.appdomain.cloud/IBMDeveloperSkillsNetwork-DA0101EN-SkillsNetwork/labs/Data%20files/automobileEDA.csv'"
   ]
  },
  {
   "cell_type": "markdown",
   "metadata": {},
   "source": [
    "Load the data and store it in dataframe `df`:\n"
   ]
  },
  {
   "cell_type": "code",
   "execution_count": 4,
   "metadata": {},
   "outputs": [
    {
     "data": {
      "text/html": [
       "<div>\n",
       "<style scoped>\n",
       "    .dataframe tbody tr th:only-of-type {\n",
       "        vertical-align: middle;\n",
       "    }\n",
       "\n",
       "    .dataframe tbody tr th {\n",
       "        vertical-align: top;\n",
       "    }\n",
       "\n",
       "    .dataframe thead th {\n",
       "        text-align: right;\n",
       "    }\n",
       "</style>\n",
       "<table border=\"1\" class=\"dataframe\">\n",
       "  <thead>\n",
       "    <tr style=\"text-align: right;\">\n",
       "      <th></th>\n",
       "      <th>symboling</th>\n",
       "      <th>normalized-losses</th>\n",
       "      <th>make</th>\n",
       "      <th>aspiration</th>\n",
       "      <th>num-of-doors</th>\n",
       "      <th>body-style</th>\n",
       "      <th>drive-wheels</th>\n",
       "      <th>engine-location</th>\n",
       "      <th>wheel-base</th>\n",
       "      <th>length</th>\n",
       "      <th>...</th>\n",
       "      <th>compression-ratio</th>\n",
       "      <th>horsepower</th>\n",
       "      <th>peak-rpm</th>\n",
       "      <th>city-mpg</th>\n",
       "      <th>highway-mpg</th>\n",
       "      <th>price</th>\n",
       "      <th>city-L/100km</th>\n",
       "      <th>horsepower-binned</th>\n",
       "      <th>diesel</th>\n",
       "      <th>gas</th>\n",
       "    </tr>\n",
       "  </thead>\n",
       "  <tbody>\n",
       "    <tr>\n",
       "      <th>0</th>\n",
       "      <td>3</td>\n",
       "      <td>122</td>\n",
       "      <td>alfa-romero</td>\n",
       "      <td>std</td>\n",
       "      <td>two</td>\n",
       "      <td>convertible</td>\n",
       "      <td>rwd</td>\n",
       "      <td>front</td>\n",
       "      <td>88.6</td>\n",
       "      <td>0.811148</td>\n",
       "      <td>...</td>\n",
       "      <td>9.0</td>\n",
       "      <td>111.0</td>\n",
       "      <td>5000.0</td>\n",
       "      <td>21</td>\n",
       "      <td>27</td>\n",
       "      <td>13495.0</td>\n",
       "      <td>11.190476</td>\n",
       "      <td>Medium</td>\n",
       "      <td>0</td>\n",
       "      <td>1</td>\n",
       "    </tr>\n",
       "    <tr>\n",
       "      <th>1</th>\n",
       "      <td>3</td>\n",
       "      <td>122</td>\n",
       "      <td>alfa-romero</td>\n",
       "      <td>std</td>\n",
       "      <td>two</td>\n",
       "      <td>convertible</td>\n",
       "      <td>rwd</td>\n",
       "      <td>front</td>\n",
       "      <td>88.6</td>\n",
       "      <td>0.811148</td>\n",
       "      <td>...</td>\n",
       "      <td>9.0</td>\n",
       "      <td>111.0</td>\n",
       "      <td>5000.0</td>\n",
       "      <td>21</td>\n",
       "      <td>27</td>\n",
       "      <td>16500.0</td>\n",
       "      <td>11.190476</td>\n",
       "      <td>Medium</td>\n",
       "      <td>0</td>\n",
       "      <td>1</td>\n",
       "    </tr>\n",
       "    <tr>\n",
       "      <th>2</th>\n",
       "      <td>1</td>\n",
       "      <td>122</td>\n",
       "      <td>alfa-romero</td>\n",
       "      <td>std</td>\n",
       "      <td>two</td>\n",
       "      <td>hatchback</td>\n",
       "      <td>rwd</td>\n",
       "      <td>front</td>\n",
       "      <td>94.5</td>\n",
       "      <td>0.822681</td>\n",
       "      <td>...</td>\n",
       "      <td>9.0</td>\n",
       "      <td>154.0</td>\n",
       "      <td>5000.0</td>\n",
       "      <td>19</td>\n",
       "      <td>26</td>\n",
       "      <td>16500.0</td>\n",
       "      <td>12.368421</td>\n",
       "      <td>Medium</td>\n",
       "      <td>0</td>\n",
       "      <td>1</td>\n",
       "    </tr>\n",
       "    <tr>\n",
       "      <th>3</th>\n",
       "      <td>2</td>\n",
       "      <td>164</td>\n",
       "      <td>audi</td>\n",
       "      <td>std</td>\n",
       "      <td>four</td>\n",
       "      <td>sedan</td>\n",
       "      <td>fwd</td>\n",
       "      <td>front</td>\n",
       "      <td>99.8</td>\n",
       "      <td>0.848630</td>\n",
       "      <td>...</td>\n",
       "      <td>10.0</td>\n",
       "      <td>102.0</td>\n",
       "      <td>5500.0</td>\n",
       "      <td>24</td>\n",
       "      <td>30</td>\n",
       "      <td>13950.0</td>\n",
       "      <td>9.791667</td>\n",
       "      <td>Medium</td>\n",
       "      <td>0</td>\n",
       "      <td>1</td>\n",
       "    </tr>\n",
       "    <tr>\n",
       "      <th>4</th>\n",
       "      <td>2</td>\n",
       "      <td>164</td>\n",
       "      <td>audi</td>\n",
       "      <td>std</td>\n",
       "      <td>four</td>\n",
       "      <td>sedan</td>\n",
       "      <td>4wd</td>\n",
       "      <td>front</td>\n",
       "      <td>99.4</td>\n",
       "      <td>0.848630</td>\n",
       "      <td>...</td>\n",
       "      <td>8.0</td>\n",
       "      <td>115.0</td>\n",
       "      <td>5500.0</td>\n",
       "      <td>18</td>\n",
       "      <td>22</td>\n",
       "      <td>17450.0</td>\n",
       "      <td>13.055556</td>\n",
       "      <td>Medium</td>\n",
       "      <td>0</td>\n",
       "      <td>1</td>\n",
       "    </tr>\n",
       "  </tbody>\n",
       "</table>\n",
       "<p>5 rows × 29 columns</p>\n",
       "</div>"
      ],
      "text/plain": [
       "   symboling  normalized-losses         make aspiration num-of-doors  \\\n",
       "0          3                122  alfa-romero        std          two   \n",
       "1          3                122  alfa-romero        std          two   \n",
       "2          1                122  alfa-romero        std          two   \n",
       "3          2                164         audi        std         four   \n",
       "4          2                164         audi        std         four   \n",
       "\n",
       "    body-style drive-wheels engine-location  wheel-base    length  ...  \\\n",
       "0  convertible          rwd           front        88.6  0.811148  ...   \n",
       "1  convertible          rwd           front        88.6  0.811148  ...   \n",
       "2    hatchback          rwd           front        94.5  0.822681  ...   \n",
       "3        sedan          fwd           front        99.8  0.848630  ...   \n",
       "4        sedan          4wd           front        99.4  0.848630  ...   \n",
       "\n",
       "   compression-ratio  horsepower  peak-rpm city-mpg highway-mpg    price  \\\n",
       "0                9.0       111.0    5000.0       21          27  13495.0   \n",
       "1                9.0       111.0    5000.0       21          27  16500.0   \n",
       "2                9.0       154.0    5000.0       19          26  16500.0   \n",
       "3               10.0       102.0    5500.0       24          30  13950.0   \n",
       "4                8.0       115.0    5500.0       18          22  17450.0   \n",
       "\n",
       "  city-L/100km  horsepower-binned  diesel  gas  \n",
       "0    11.190476             Medium       0    1  \n",
       "1    11.190476             Medium       0    1  \n",
       "2    12.368421             Medium       0    1  \n",
       "3     9.791667             Medium       0    1  \n",
       "4    13.055556             Medium       0    1  \n",
       "\n",
       "[5 rows x 29 columns]"
      ]
     },
     "execution_count": 4,
     "metadata": {},
     "output_type": "execute_result"
    }
   ],
   "source": [
    "df = pd.read_csv(path)\n",
    "df.head()"
   ]
  },
  {
   "cell_type": "markdown",
   "metadata": {},
   "source": [
    "<h2>1. Linear Regression and Multiple Linear Regression</h2>\n"
   ]
  },
  {
   "cell_type": "markdown",
   "metadata": {},
   "source": [
    "<h4>Linear Regression</h4>\n"
   ]
  },
  {
   "cell_type": "markdown",
   "metadata": {},
   "source": [
    "<p>One example of a Data  Model that we will be using is:</p>\n",
    "<b>Simple Linear Regression</b>\n",
    "\n",
    "<br>\n",
    "<p>Simple Linear Regression is a method to help us understand the relationship between two variables:</p>\n",
    "<ul>\n",
    "    <li>The predictor/independent variable (X)</li>\n",
    "    <li>The response/dependent variable (that we want to predict)(Y)</li>\n",
    "</ul>\n",
    "\n",
    "<p>The result of Linear Regression is a <b>linear function</b> that predicts the response (dependent) variable as a function of the predictor (independent) variable.</p>\n"
   ]
  },
  {
   "cell_type": "markdown",
   "metadata": {},
   "source": [
    "$$\n",
    "Y: Response \\ Variable\\\\\\\\\\\\\\\\\n",
    "X: Predictor \\ Variables\n",
    "$$\n"
   ]
  },
  {
   "cell_type": "markdown",
   "metadata": {},
   "source": [
    "<b>Linear Function</b>\n",
    "$$\n",
    "Yhat = a + b  X\n",
    "$$\n"
   ]
  },
  {
   "cell_type": "markdown",
   "metadata": {},
   "source": [
    "<ul>\n",
    "    <li>a refers to the <b>intercept</b> of the regression line, in other words: the value of Y when X is 0</li>\n",
    "    <li>b refers to the <b>slope</b> of the regression line, in other words: the value with which Y changes when X increases by 1 unit</li>\n",
    "</ul>\n"
   ]
  },
  {
   "cell_type": "markdown",
   "metadata": {},
   "source": [
    "<h4>Let's load the modules for linear regression:</h4>\n"
   ]
  },
  {
   "cell_type": "code",
   "execution_count": 5,
   "metadata": {},
   "outputs": [],
   "source": [
    "from sklearn.linear_model import LinearRegression"
   ]
  },
  {
   "cell_type": "markdown",
   "metadata": {},
   "source": [
    "<h4>Create the linear regression object:</h4>\n"
   ]
  },
  {
   "cell_type": "code",
   "execution_count": 6,
   "metadata": {},
   "outputs": [
    {
     "data": {
      "text/html": [
       "<style>#sk-container-id-1 {color: black;background-color: white;}#sk-container-id-1 pre{padding: 0;}#sk-container-id-1 div.sk-toggleable {background-color: white;}#sk-container-id-1 label.sk-toggleable__label {cursor: pointer;display: block;width: 100%;margin-bottom: 0;padding: 0.3em;box-sizing: border-box;text-align: center;}#sk-container-id-1 label.sk-toggleable__label-arrow:before {content: \"▸\";float: left;margin-right: 0.25em;color: #696969;}#sk-container-id-1 label.sk-toggleable__label-arrow:hover:before {color: black;}#sk-container-id-1 div.sk-estimator:hover label.sk-toggleable__label-arrow:before {color: black;}#sk-container-id-1 div.sk-toggleable__content {max-height: 0;max-width: 0;overflow: hidden;text-align: left;background-color: #f0f8ff;}#sk-container-id-1 div.sk-toggleable__content pre {margin: 0.2em;color: black;border-radius: 0.25em;background-color: #f0f8ff;}#sk-container-id-1 input.sk-toggleable__control:checked~div.sk-toggleable__content {max-height: 200px;max-width: 100%;overflow: auto;}#sk-container-id-1 input.sk-toggleable__control:checked~label.sk-toggleable__label-arrow:before {content: \"▾\";}#sk-container-id-1 div.sk-estimator input.sk-toggleable__control:checked~label.sk-toggleable__label {background-color: #d4ebff;}#sk-container-id-1 div.sk-label input.sk-toggleable__control:checked~label.sk-toggleable__label {background-color: #d4ebff;}#sk-container-id-1 input.sk-hidden--visually {border: 0;clip: rect(1px 1px 1px 1px);clip: rect(1px, 1px, 1px, 1px);height: 1px;margin: -1px;overflow: hidden;padding: 0;position: absolute;width: 1px;}#sk-container-id-1 div.sk-estimator {font-family: monospace;background-color: #f0f8ff;border: 1px dotted black;border-radius: 0.25em;box-sizing: border-box;margin-bottom: 0.5em;}#sk-container-id-1 div.sk-estimator:hover {background-color: #d4ebff;}#sk-container-id-1 div.sk-parallel-item::after {content: \"\";width: 100%;border-bottom: 1px solid gray;flex-grow: 1;}#sk-container-id-1 div.sk-label:hover label.sk-toggleable__label {background-color: #d4ebff;}#sk-container-id-1 div.sk-serial::before {content: \"\";position: absolute;border-left: 1px solid gray;box-sizing: border-box;top: 0;bottom: 0;left: 50%;z-index: 0;}#sk-container-id-1 div.sk-serial {display: flex;flex-direction: column;align-items: center;background-color: white;padding-right: 0.2em;padding-left: 0.2em;position: relative;}#sk-container-id-1 div.sk-item {position: relative;z-index: 1;}#sk-container-id-1 div.sk-parallel {display: flex;align-items: stretch;justify-content: center;background-color: white;position: relative;}#sk-container-id-1 div.sk-item::before, #sk-container-id-1 div.sk-parallel-item::before {content: \"\";position: absolute;border-left: 1px solid gray;box-sizing: border-box;top: 0;bottom: 0;left: 50%;z-index: -1;}#sk-container-id-1 div.sk-parallel-item {display: flex;flex-direction: column;z-index: 1;position: relative;background-color: white;}#sk-container-id-1 div.sk-parallel-item:first-child::after {align-self: flex-end;width: 50%;}#sk-container-id-1 div.sk-parallel-item:last-child::after {align-self: flex-start;width: 50%;}#sk-container-id-1 div.sk-parallel-item:only-child::after {width: 0;}#sk-container-id-1 div.sk-dashed-wrapped {border: 1px dashed gray;margin: 0 0.4em 0.5em 0.4em;box-sizing: border-box;padding-bottom: 0.4em;background-color: white;}#sk-container-id-1 div.sk-label label {font-family: monospace;font-weight: bold;display: inline-block;line-height: 1.2em;}#sk-container-id-1 div.sk-label-container {text-align: center;}#sk-container-id-1 div.sk-container {/* jupyter's `normalize.less` sets `[hidden] { display: none; }` but bootstrap.min.css set `[hidden] { display: none !important; }` so we also need the `!important` here to be able to override the default hidden behavior on the sphinx rendered scikit-learn.org. See: https://github.com/scikit-learn/scikit-learn/issues/21755 */display: inline-block !important;position: relative;}#sk-container-id-1 div.sk-text-repr-fallback {display: none;}</style><div id=\"sk-container-id-1\" class=\"sk-top-container\"><div class=\"sk-text-repr-fallback\"><pre>LinearRegression()</pre><b>In a Jupyter environment, please rerun this cell to show the HTML representation or trust the notebook. <br />On GitHub, the HTML representation is unable to render, please try loading this page with nbviewer.org.</b></div><div class=\"sk-container\" hidden><div class=\"sk-item\"><div class=\"sk-estimator sk-toggleable\"><input class=\"sk-toggleable__control sk-hidden--visually\" id=\"sk-estimator-id-1\" type=\"checkbox\" checked><label for=\"sk-estimator-id-1\" class=\"sk-toggleable__label sk-toggleable__label-arrow\">LinearRegression</label><div class=\"sk-toggleable__content\"><pre>LinearRegression()</pre></div></div></div></div></div>"
      ],
      "text/plain": [
       "LinearRegression()"
      ]
     },
     "execution_count": 6,
     "metadata": {},
     "output_type": "execute_result"
    }
   ],
   "source": [
    "lm = LinearRegression()\n",
    "lm"
   ]
  },
  {
   "cell_type": "markdown",
   "metadata": {},
   "source": [
    "<h4>How could \"highway-mpg\" help us predict car price?</h4>\n"
   ]
  },
  {
   "cell_type": "markdown",
   "metadata": {},
   "source": [
    "For this example, we want to look at how highway-mpg can help us predict car price.\n",
    "Using simple linear regression, we will create a linear function with \"highway-mpg\" as the predictor variable and the \"price\" as the response variable.\n"
   ]
  },
  {
   "cell_type": "code",
   "execution_count": 7,
   "metadata": {},
   "outputs": [],
   "source": [
    "X = df[['highway-mpg']]\n",
    "Y = df['price']"
   ]
  },
  {
   "cell_type": "markdown",
   "metadata": {},
   "source": [
    "Fit the linear model using highway-mpg:\n"
   ]
  },
  {
   "cell_type": "code",
   "execution_count": 8,
   "metadata": {},
   "outputs": [
    {
     "data": {
      "text/html": [
       "<style>#sk-container-id-2 {color: black;background-color: white;}#sk-container-id-2 pre{padding: 0;}#sk-container-id-2 div.sk-toggleable {background-color: white;}#sk-container-id-2 label.sk-toggleable__label {cursor: pointer;display: block;width: 100%;margin-bottom: 0;padding: 0.3em;box-sizing: border-box;text-align: center;}#sk-container-id-2 label.sk-toggleable__label-arrow:before {content: \"▸\";float: left;margin-right: 0.25em;color: #696969;}#sk-container-id-2 label.sk-toggleable__label-arrow:hover:before {color: black;}#sk-container-id-2 div.sk-estimator:hover label.sk-toggleable__label-arrow:before {color: black;}#sk-container-id-2 div.sk-toggleable__content {max-height: 0;max-width: 0;overflow: hidden;text-align: left;background-color: #f0f8ff;}#sk-container-id-2 div.sk-toggleable__content pre {margin: 0.2em;color: black;border-radius: 0.25em;background-color: #f0f8ff;}#sk-container-id-2 input.sk-toggleable__control:checked~div.sk-toggleable__content {max-height: 200px;max-width: 100%;overflow: auto;}#sk-container-id-2 input.sk-toggleable__control:checked~label.sk-toggleable__label-arrow:before {content: \"▾\";}#sk-container-id-2 div.sk-estimator input.sk-toggleable__control:checked~label.sk-toggleable__label {background-color: #d4ebff;}#sk-container-id-2 div.sk-label input.sk-toggleable__control:checked~label.sk-toggleable__label {background-color: #d4ebff;}#sk-container-id-2 input.sk-hidden--visually {border: 0;clip: rect(1px 1px 1px 1px);clip: rect(1px, 1px, 1px, 1px);height: 1px;margin: -1px;overflow: hidden;padding: 0;position: absolute;width: 1px;}#sk-container-id-2 div.sk-estimator {font-family: monospace;background-color: #f0f8ff;border: 1px dotted black;border-radius: 0.25em;box-sizing: border-box;margin-bottom: 0.5em;}#sk-container-id-2 div.sk-estimator:hover {background-color: #d4ebff;}#sk-container-id-2 div.sk-parallel-item::after {content: \"\";width: 100%;border-bottom: 1px solid gray;flex-grow: 1;}#sk-container-id-2 div.sk-label:hover label.sk-toggleable__label {background-color: #d4ebff;}#sk-container-id-2 div.sk-serial::before {content: \"\";position: absolute;border-left: 1px solid gray;box-sizing: border-box;top: 0;bottom: 0;left: 50%;z-index: 0;}#sk-container-id-2 div.sk-serial {display: flex;flex-direction: column;align-items: center;background-color: white;padding-right: 0.2em;padding-left: 0.2em;position: relative;}#sk-container-id-2 div.sk-item {position: relative;z-index: 1;}#sk-container-id-2 div.sk-parallel {display: flex;align-items: stretch;justify-content: center;background-color: white;position: relative;}#sk-container-id-2 div.sk-item::before, #sk-container-id-2 div.sk-parallel-item::before {content: \"\";position: absolute;border-left: 1px solid gray;box-sizing: border-box;top: 0;bottom: 0;left: 50%;z-index: -1;}#sk-container-id-2 div.sk-parallel-item {display: flex;flex-direction: column;z-index: 1;position: relative;background-color: white;}#sk-container-id-2 div.sk-parallel-item:first-child::after {align-self: flex-end;width: 50%;}#sk-container-id-2 div.sk-parallel-item:last-child::after {align-self: flex-start;width: 50%;}#sk-container-id-2 div.sk-parallel-item:only-child::after {width: 0;}#sk-container-id-2 div.sk-dashed-wrapped {border: 1px dashed gray;margin: 0 0.4em 0.5em 0.4em;box-sizing: border-box;padding-bottom: 0.4em;background-color: white;}#sk-container-id-2 div.sk-label label {font-family: monospace;font-weight: bold;display: inline-block;line-height: 1.2em;}#sk-container-id-2 div.sk-label-container {text-align: center;}#sk-container-id-2 div.sk-container {/* jupyter's `normalize.less` sets `[hidden] { display: none; }` but bootstrap.min.css set `[hidden] { display: none !important; }` so we also need the `!important` here to be able to override the default hidden behavior on the sphinx rendered scikit-learn.org. See: https://github.com/scikit-learn/scikit-learn/issues/21755 */display: inline-block !important;position: relative;}#sk-container-id-2 div.sk-text-repr-fallback {display: none;}</style><div id=\"sk-container-id-2\" class=\"sk-top-container\"><div class=\"sk-text-repr-fallback\"><pre>LinearRegression()</pre><b>In a Jupyter environment, please rerun this cell to show the HTML representation or trust the notebook. <br />On GitHub, the HTML representation is unable to render, please try loading this page with nbviewer.org.</b></div><div class=\"sk-container\" hidden><div class=\"sk-item\"><div class=\"sk-estimator sk-toggleable\"><input class=\"sk-toggleable__control sk-hidden--visually\" id=\"sk-estimator-id-2\" type=\"checkbox\" checked><label for=\"sk-estimator-id-2\" class=\"sk-toggleable__label sk-toggleable__label-arrow\">LinearRegression</label><div class=\"sk-toggleable__content\"><pre>LinearRegression()</pre></div></div></div></div></div>"
      ],
      "text/plain": [
       "LinearRegression()"
      ]
     },
     "execution_count": 8,
     "metadata": {},
     "output_type": "execute_result"
    }
   ],
   "source": [
    "lm.fit(X,Y)"
   ]
  },
  {
   "cell_type": "markdown",
   "metadata": {},
   "source": [
    "We can output a prediction:\n"
   ]
  },
  {
   "cell_type": "code",
   "execution_count": 9,
   "metadata": {},
   "outputs": [
    {
     "data": {
      "text/plain": [
       "array([16236.50464347, 16236.50464347, 17058.23802179, 13771.3045085 ,\n",
       "       20345.17153508])"
      ]
     },
     "execution_count": 9,
     "metadata": {},
     "output_type": "execute_result"
    }
   ],
   "source": [
    "Yhat=lm.predict(X)\n",
    "Yhat[0:5]   "
   ]
  },
  {
   "cell_type": "markdown",
   "metadata": {},
   "source": [
    "<h4>What is the value of the intercept (a)?</h4>\n"
   ]
  },
  {
   "cell_type": "code",
   "execution_count": 10,
   "metadata": {},
   "outputs": [
    {
     "data": {
      "text/plain": [
       "38423.3058581574"
      ]
     },
     "execution_count": 10,
     "metadata": {},
     "output_type": "execute_result"
    }
   ],
   "source": [
    "lm.intercept_"
   ]
  },
  {
   "cell_type": "markdown",
   "metadata": {},
   "source": [
    "<h4>What is the value of the slope (b)?</h4>\n"
   ]
  },
  {
   "cell_type": "code",
   "execution_count": 11,
   "metadata": {
    "scrolled": true
   },
   "outputs": [
    {
     "data": {
      "text/plain": [
       "array([-821.73337832])"
      ]
     },
     "execution_count": 11,
     "metadata": {},
     "output_type": "execute_result"
    }
   ],
   "source": [
    "lm.coef_"
   ]
  },
  {
   "cell_type": "markdown",
   "metadata": {},
   "source": [
    "<h3>What is the final estimated linear model we get?</h3>\n"
   ]
  },
  {
   "cell_type": "markdown",
   "metadata": {},
   "source": [
    "As we saw above, we should get a final linear model with the structure:\n"
   ]
  },
  {
   "cell_type": "markdown",
   "metadata": {},
   "source": [
    "$$\n",
    "Yhat = a + b  X\n",
    "$$\n"
   ]
  },
  {
   "cell_type": "markdown",
   "metadata": {},
   "source": [
    "Plugging in the actual values we get:\n"
   ]
  },
  {
   "cell_type": "markdown",
   "metadata": {},
   "source": [
    "<b>Price</b> = 38423.31 - 821.73 x <b>highway-mpg</b>\n"
   ]
  },
  {
   "cell_type": "markdown",
   "metadata": {},
   "source": [
    "<div class=\"alert alert-block alert-info\" style=\"margin-top: 20px\">\n",
    "<h3>Question #1 a): </h3>\n",
    "\n",
    "<b>Create a linear regression object called \"lm1\".</b>\n",
    "\n",
    "</div>\n"
   ]
  },
  {
   "cell_type": "code",
   "execution_count": 12,
   "metadata": {},
   "outputs": [
    {
     "data": {
      "text/html": [
       "<style>#sk-container-id-3 {color: black;background-color: white;}#sk-container-id-3 pre{padding: 0;}#sk-container-id-3 div.sk-toggleable {background-color: white;}#sk-container-id-3 label.sk-toggleable__label {cursor: pointer;display: block;width: 100%;margin-bottom: 0;padding: 0.3em;box-sizing: border-box;text-align: center;}#sk-container-id-3 label.sk-toggleable__label-arrow:before {content: \"▸\";float: left;margin-right: 0.25em;color: #696969;}#sk-container-id-3 label.sk-toggleable__label-arrow:hover:before {color: black;}#sk-container-id-3 div.sk-estimator:hover label.sk-toggleable__label-arrow:before {color: black;}#sk-container-id-3 div.sk-toggleable__content {max-height: 0;max-width: 0;overflow: hidden;text-align: left;background-color: #f0f8ff;}#sk-container-id-3 div.sk-toggleable__content pre {margin: 0.2em;color: black;border-radius: 0.25em;background-color: #f0f8ff;}#sk-container-id-3 input.sk-toggleable__control:checked~div.sk-toggleable__content {max-height: 200px;max-width: 100%;overflow: auto;}#sk-container-id-3 input.sk-toggleable__control:checked~label.sk-toggleable__label-arrow:before {content: \"▾\";}#sk-container-id-3 div.sk-estimator input.sk-toggleable__control:checked~label.sk-toggleable__label {background-color: #d4ebff;}#sk-container-id-3 div.sk-label input.sk-toggleable__control:checked~label.sk-toggleable__label {background-color: #d4ebff;}#sk-container-id-3 input.sk-hidden--visually {border: 0;clip: rect(1px 1px 1px 1px);clip: rect(1px, 1px, 1px, 1px);height: 1px;margin: -1px;overflow: hidden;padding: 0;position: absolute;width: 1px;}#sk-container-id-3 div.sk-estimator {font-family: monospace;background-color: #f0f8ff;border: 1px dotted black;border-radius: 0.25em;box-sizing: border-box;margin-bottom: 0.5em;}#sk-container-id-3 div.sk-estimator:hover {background-color: #d4ebff;}#sk-container-id-3 div.sk-parallel-item::after {content: \"\";width: 100%;border-bottom: 1px solid gray;flex-grow: 1;}#sk-container-id-3 div.sk-label:hover label.sk-toggleable__label {background-color: #d4ebff;}#sk-container-id-3 div.sk-serial::before {content: \"\";position: absolute;border-left: 1px solid gray;box-sizing: border-box;top: 0;bottom: 0;left: 50%;z-index: 0;}#sk-container-id-3 div.sk-serial {display: flex;flex-direction: column;align-items: center;background-color: white;padding-right: 0.2em;padding-left: 0.2em;position: relative;}#sk-container-id-3 div.sk-item {position: relative;z-index: 1;}#sk-container-id-3 div.sk-parallel {display: flex;align-items: stretch;justify-content: center;background-color: white;position: relative;}#sk-container-id-3 div.sk-item::before, #sk-container-id-3 div.sk-parallel-item::before {content: \"\";position: absolute;border-left: 1px solid gray;box-sizing: border-box;top: 0;bottom: 0;left: 50%;z-index: -1;}#sk-container-id-3 div.sk-parallel-item {display: flex;flex-direction: column;z-index: 1;position: relative;background-color: white;}#sk-container-id-3 div.sk-parallel-item:first-child::after {align-self: flex-end;width: 50%;}#sk-container-id-3 div.sk-parallel-item:last-child::after {align-self: flex-start;width: 50%;}#sk-container-id-3 div.sk-parallel-item:only-child::after {width: 0;}#sk-container-id-3 div.sk-dashed-wrapped {border: 1px dashed gray;margin: 0 0.4em 0.5em 0.4em;box-sizing: border-box;padding-bottom: 0.4em;background-color: white;}#sk-container-id-3 div.sk-label label {font-family: monospace;font-weight: bold;display: inline-block;line-height: 1.2em;}#sk-container-id-3 div.sk-label-container {text-align: center;}#sk-container-id-3 div.sk-container {/* jupyter's `normalize.less` sets `[hidden] { display: none; }` but bootstrap.min.css set `[hidden] { display: none !important; }` so we also need the `!important` here to be able to override the default hidden behavior on the sphinx rendered scikit-learn.org. See: https://github.com/scikit-learn/scikit-learn/issues/21755 */display: inline-block !important;position: relative;}#sk-container-id-3 div.sk-text-repr-fallback {display: none;}</style><div id=\"sk-container-id-3\" class=\"sk-top-container\"><div class=\"sk-text-repr-fallback\"><pre>LinearRegression()</pre><b>In a Jupyter environment, please rerun this cell to show the HTML representation or trust the notebook. <br />On GitHub, the HTML representation is unable to render, please try loading this page with nbviewer.org.</b></div><div class=\"sk-container\" hidden><div class=\"sk-item\"><div class=\"sk-estimator sk-toggleable\"><input class=\"sk-toggleable__control sk-hidden--visually\" id=\"sk-estimator-id-3\" type=\"checkbox\" checked><label for=\"sk-estimator-id-3\" class=\"sk-toggleable__label sk-toggleable__label-arrow\">LinearRegression</label><div class=\"sk-toggleable__content\"><pre>LinearRegression()</pre></div></div></div></div></div>"
      ],
      "text/plain": [
       "LinearRegression()"
      ]
     },
     "execution_count": 12,
     "metadata": {},
     "output_type": "execute_result"
    }
   ],
   "source": [
    "# Write your code below and press Shift+Enter to execute \n",
    "lm1= LinearRegression()\n",
    "lm1"
   ]
  },
  {
   "cell_type": "markdown",
   "metadata": {},
   "source": [
    "<details><summary>Click here for the solution</summary>\n",
    "\n",
    "```python\n",
    "lm1 = LinearRegression()\n",
    "lm1\n",
    "```\n",
    "\n",
    "</details>\n"
   ]
  },
  {
   "cell_type": "markdown",
   "metadata": {},
   "source": [
    "<div class=\"alert alert-block alert-info\" style=\"margin-top: 20px\">\n",
    "<h3> Question #1 b): </h3>\n",
    "\n",
    "<b>Train the model using \"engine-size\" as the independent variable and \"price\" as the dependent variable?</b>\n",
    "\n",
    "</div>\n"
   ]
  },
  {
   "cell_type": "code",
   "execution_count": 13,
   "metadata": {},
   "outputs": [
    {
     "data": {
      "text/html": [
       "<style>#sk-container-id-4 {color: black;background-color: white;}#sk-container-id-4 pre{padding: 0;}#sk-container-id-4 div.sk-toggleable {background-color: white;}#sk-container-id-4 label.sk-toggleable__label {cursor: pointer;display: block;width: 100%;margin-bottom: 0;padding: 0.3em;box-sizing: border-box;text-align: center;}#sk-container-id-4 label.sk-toggleable__label-arrow:before {content: \"▸\";float: left;margin-right: 0.25em;color: #696969;}#sk-container-id-4 label.sk-toggleable__label-arrow:hover:before {color: black;}#sk-container-id-4 div.sk-estimator:hover label.sk-toggleable__label-arrow:before {color: black;}#sk-container-id-4 div.sk-toggleable__content {max-height: 0;max-width: 0;overflow: hidden;text-align: left;background-color: #f0f8ff;}#sk-container-id-4 div.sk-toggleable__content pre {margin: 0.2em;color: black;border-radius: 0.25em;background-color: #f0f8ff;}#sk-container-id-4 input.sk-toggleable__control:checked~div.sk-toggleable__content {max-height: 200px;max-width: 100%;overflow: auto;}#sk-container-id-4 input.sk-toggleable__control:checked~label.sk-toggleable__label-arrow:before {content: \"▾\";}#sk-container-id-4 div.sk-estimator input.sk-toggleable__control:checked~label.sk-toggleable__label {background-color: #d4ebff;}#sk-container-id-4 div.sk-label input.sk-toggleable__control:checked~label.sk-toggleable__label {background-color: #d4ebff;}#sk-container-id-4 input.sk-hidden--visually {border: 0;clip: rect(1px 1px 1px 1px);clip: rect(1px, 1px, 1px, 1px);height: 1px;margin: -1px;overflow: hidden;padding: 0;position: absolute;width: 1px;}#sk-container-id-4 div.sk-estimator {font-family: monospace;background-color: #f0f8ff;border: 1px dotted black;border-radius: 0.25em;box-sizing: border-box;margin-bottom: 0.5em;}#sk-container-id-4 div.sk-estimator:hover {background-color: #d4ebff;}#sk-container-id-4 div.sk-parallel-item::after {content: \"\";width: 100%;border-bottom: 1px solid gray;flex-grow: 1;}#sk-container-id-4 div.sk-label:hover label.sk-toggleable__label {background-color: #d4ebff;}#sk-container-id-4 div.sk-serial::before {content: \"\";position: absolute;border-left: 1px solid gray;box-sizing: border-box;top: 0;bottom: 0;left: 50%;z-index: 0;}#sk-container-id-4 div.sk-serial {display: flex;flex-direction: column;align-items: center;background-color: white;padding-right: 0.2em;padding-left: 0.2em;position: relative;}#sk-container-id-4 div.sk-item {position: relative;z-index: 1;}#sk-container-id-4 div.sk-parallel {display: flex;align-items: stretch;justify-content: center;background-color: white;position: relative;}#sk-container-id-4 div.sk-item::before, #sk-container-id-4 div.sk-parallel-item::before {content: \"\";position: absolute;border-left: 1px solid gray;box-sizing: border-box;top: 0;bottom: 0;left: 50%;z-index: -1;}#sk-container-id-4 div.sk-parallel-item {display: flex;flex-direction: column;z-index: 1;position: relative;background-color: white;}#sk-container-id-4 div.sk-parallel-item:first-child::after {align-self: flex-end;width: 50%;}#sk-container-id-4 div.sk-parallel-item:last-child::after {align-self: flex-start;width: 50%;}#sk-container-id-4 div.sk-parallel-item:only-child::after {width: 0;}#sk-container-id-4 div.sk-dashed-wrapped {border: 1px dashed gray;margin: 0 0.4em 0.5em 0.4em;box-sizing: border-box;padding-bottom: 0.4em;background-color: white;}#sk-container-id-4 div.sk-label label {font-family: monospace;font-weight: bold;display: inline-block;line-height: 1.2em;}#sk-container-id-4 div.sk-label-container {text-align: center;}#sk-container-id-4 div.sk-container {/* jupyter's `normalize.less` sets `[hidden] { display: none; }` but bootstrap.min.css set `[hidden] { display: none !important; }` so we also need the `!important` here to be able to override the default hidden behavior on the sphinx rendered scikit-learn.org. See: https://github.com/scikit-learn/scikit-learn/issues/21755 */display: inline-block !important;position: relative;}#sk-container-id-4 div.sk-text-repr-fallback {display: none;}</style><div id=\"sk-container-id-4\" class=\"sk-top-container\"><div class=\"sk-text-repr-fallback\"><pre>LinearRegression()</pre><b>In a Jupyter environment, please rerun this cell to show the HTML representation or trust the notebook. <br />On GitHub, the HTML representation is unable to render, please try loading this page with nbviewer.org.</b></div><div class=\"sk-container\" hidden><div class=\"sk-item\"><div class=\"sk-estimator sk-toggleable\"><input class=\"sk-toggleable__control sk-hidden--visually\" id=\"sk-estimator-id-4\" type=\"checkbox\" checked><label for=\"sk-estimator-id-4\" class=\"sk-toggleable__label sk-toggleable__label-arrow\">LinearRegression</label><div class=\"sk-toggleable__content\"><pre>LinearRegression()</pre></div></div></div></div></div>"
      ],
      "text/plain": [
       "LinearRegression()"
      ]
     },
     "execution_count": 13,
     "metadata": {},
     "output_type": "execute_result"
    }
   ],
   "source": [
    "# Write your code below and press Shift+Enter to execute \n",
    "X1 = df[['engine-size']]\n",
    "Y1 = df['price']\n",
    "\n",
    "lm1.fit(X1,Y1)"
   ]
  },
  {
   "cell_type": "markdown",
   "metadata": {},
   "source": [
    "<details><summary>Click here for the solution</summary>\n",
    "\n",
    "```python\n",
    "lm1.fit(df[['engine-size']], df[['price']])\n",
    "lm1\n",
    "```\n",
    "\n",
    "</details>\n"
   ]
  },
  {
   "cell_type": "markdown",
   "metadata": {},
   "source": [
    "<div class=\"alert alert-block alert-info\" style=\"margin-top: 20px\">\n",
    "<h3>Question #1 c):</h3>\n",
    "\n",
    "<b>Find the slope and intercept of the model.</b>\n",
    "\n",
    "</div>\n"
   ]
  },
  {
   "cell_type": "markdown",
   "metadata": {},
   "source": [
    "<h4>Slope</h4>\n"
   ]
  },
  {
   "cell_type": "code",
   "execution_count": 14,
   "metadata": {},
   "outputs": [
    {
     "name": "stdout",
     "output_type": "stream",
     "text": [
      "[166.86001569]\n"
     ]
    }
   ],
   "source": [
    "# Write your code below and press Shift+Enter to execute \n",
    "print(lm1.coef_)"
   ]
  },
  {
   "cell_type": "markdown",
   "metadata": {},
   "source": [
    "<h4>Intercept</h4>\n"
   ]
  },
  {
   "cell_type": "code",
   "execution_count": 15,
   "metadata": {},
   "outputs": [
    {
     "name": "stdout",
     "output_type": "stream",
     "text": [
      "-7963.338906281024\n"
     ]
    }
   ],
   "source": [
    "# Write yprint(lm1.intercept_)our code below and press Shift+Enter to execute \n",
    "print(lm1.intercept_)"
   ]
  },
  {
   "cell_type": "markdown",
   "metadata": {},
   "source": [
    "# Slope\n",
    "\n",
    "lm1.coef\\_<details><summary>Click here for the solution</summary>\n",
    "\n",
    "```python\n",
    "# Slope \n",
    "lm1.coef_\n",
    "\n",
    "# Intercept\n",
    "lm1.intercept_\n",
    "```\n",
    "\n",
    "</details>\n"
   ]
  },
  {
   "cell_type": "markdown",
   "metadata": {},
   "source": [
    "<div class=\"alert alert-block alert-info\" style=\"margin-top: 20px\">\n",
    "<h3>Question #1 d): </h3>\n",
    "\n",
    "<b>What is the equation of the predicted line? You can use x and yhat or \"engine-size\" or \"price\".</b>\n",
    "\n",
    "</div>\n"
   ]
  },
  {
   "cell_type": "code",
   "execution_count": 16,
   "metadata": {},
   "outputs": [],
   "source": [
    "# Write your code below and press Shift+Enter to execute \n",
    "# using X and Y  \n",
    "Y1h=  lm1.intercept_  +  lm1.coef_* X1"
   ]
  },
  {
   "cell_type": "markdown",
   "metadata": {},
   "source": [
    "<details><summary>Click here for the solution</summary>\n",
    "\n",
    "```python\n",
    "# using X and Y  \n",
    "Yhat=-7963.34 + 166.86*X\n",
    "\n",
    "Price=-7963.34 + 166.86*engine-size\n",
    "\n",
    "```\n",
    "\n",
    "</details>\n"
   ]
  },
  {
   "cell_type": "markdown",
   "metadata": {},
   "source": [
    "<h4>Multiple Linear Regression</h4>\n"
   ]
  },
  {
   "cell_type": "markdown",
   "metadata": {},
   "source": [
    "<p>What if we want to predict car price using more than one variable?</p>\n",
    "\n",
    "<p>If we want to use more variables in our model to predict car price, we can use <b>Multiple Linear Regression</b>.\n",
    "Multiple Linear Regression is very similar to Simple Linear Regression, but this method is used to explain the relationship between one continuous response (dependent) variable and <b>two or more</b> predictor (independent) variables.\n",
    "Most of the real-world regression models involve multiple predictors. We will illustrate the structure by using four predictor variables, but these results can generalize to any integer:</p>\n"
   ]
  },
  {
   "cell_type": "markdown",
   "metadata": {},
   "source": [
    "$$\n",
    "Y: Response \\ Variable\\\\\\\\\\\\\\\\\n",
    "X\\_1 :Predictor\\ Variable \\ 1\\\\\\\\\n",
    "X\\_2: Predictor\\ Variable \\ 2\\\\\\\\\n",
    "X\\_3: Predictor\\ Variable \\ 3\\\\\\\\\n",
    "X\\_4: Predictor\\ Variable \\ 4\\\\\\\\\n",
    "$$\n"
   ]
  },
  {
   "cell_type": "markdown",
   "metadata": {},
   "source": [
    "$$\n",
    "a: intercept\\\\\\\\\\\\\\\\\n",
    "b\\_1 :coefficients \\ of\\ Variable \\ 1\\\\\\\\\n",
    "b\\_2: coefficients \\ of\\ Variable \\ 2\\\\\\\\\n",
    "b\\_3: coefficients \\ of\\ Variable \\ 3\\\\\\\\\n",
    "b\\_4: coefficients \\ of\\ Variable \\ 4\\\\\\\\\n",
    "$$\n"
   ]
  },
  {
   "cell_type": "markdown",
   "metadata": {},
   "source": [
    "The equation is given by:\n"
   ]
  },
  {
   "cell_type": "markdown",
   "metadata": {},
   "source": [
    "$$\n",
    "Yhat = a + b\\_1 X\\_1 + b\\_2 X\\_2 + b\\_3 X\\_3 + b\\_4 X\\_4\n",
    "$$\n"
   ]
  },
  {
   "cell_type": "markdown",
   "metadata": {},
   "source": [
    "<p>From the previous section  we know that other good predictors of price could be:</p>\n",
    "<ul>\n",
    "    <li>Horsepower</li>\n",
    "    <li>Curb-weight</li>\n",
    "    <li>Engine-size</li>\n",
    "    <li>Highway-mpg</li>\n",
    "</ul>\n",
    "Let's develop a model using these variables as the predictor variables.\n"
   ]
  },
  {
   "cell_type": "code",
   "execution_count": 17,
   "metadata": {},
   "outputs": [],
   "source": [
    "Z = df[['horsepower', 'curb-weight', 'engine-size', 'highway-mpg']]"
   ]
  },
  {
   "cell_type": "markdown",
   "metadata": {},
   "source": [
    "Fit the linear model using the four above-mentioned variables.\n"
   ]
  },
  {
   "cell_type": "code",
   "execution_count": 18,
   "metadata": {},
   "outputs": [
    {
     "data": {
      "text/html": [
       "<style>#sk-container-id-5 {color: black;background-color: white;}#sk-container-id-5 pre{padding: 0;}#sk-container-id-5 div.sk-toggleable {background-color: white;}#sk-container-id-5 label.sk-toggleable__label {cursor: pointer;display: block;width: 100%;margin-bottom: 0;padding: 0.3em;box-sizing: border-box;text-align: center;}#sk-container-id-5 label.sk-toggleable__label-arrow:before {content: \"▸\";float: left;margin-right: 0.25em;color: #696969;}#sk-container-id-5 label.sk-toggleable__label-arrow:hover:before {color: black;}#sk-container-id-5 div.sk-estimator:hover label.sk-toggleable__label-arrow:before {color: black;}#sk-container-id-5 div.sk-toggleable__content {max-height: 0;max-width: 0;overflow: hidden;text-align: left;background-color: #f0f8ff;}#sk-container-id-5 div.sk-toggleable__content pre {margin: 0.2em;color: black;border-radius: 0.25em;background-color: #f0f8ff;}#sk-container-id-5 input.sk-toggleable__control:checked~div.sk-toggleable__content {max-height: 200px;max-width: 100%;overflow: auto;}#sk-container-id-5 input.sk-toggleable__control:checked~label.sk-toggleable__label-arrow:before {content: \"▾\";}#sk-container-id-5 div.sk-estimator input.sk-toggleable__control:checked~label.sk-toggleable__label {background-color: #d4ebff;}#sk-container-id-5 div.sk-label input.sk-toggleable__control:checked~label.sk-toggleable__label {background-color: #d4ebff;}#sk-container-id-5 input.sk-hidden--visually {border: 0;clip: rect(1px 1px 1px 1px);clip: rect(1px, 1px, 1px, 1px);height: 1px;margin: -1px;overflow: hidden;padding: 0;position: absolute;width: 1px;}#sk-container-id-5 div.sk-estimator {font-family: monospace;background-color: #f0f8ff;border: 1px dotted black;border-radius: 0.25em;box-sizing: border-box;margin-bottom: 0.5em;}#sk-container-id-5 div.sk-estimator:hover {background-color: #d4ebff;}#sk-container-id-5 div.sk-parallel-item::after {content: \"\";width: 100%;border-bottom: 1px solid gray;flex-grow: 1;}#sk-container-id-5 div.sk-label:hover label.sk-toggleable__label {background-color: #d4ebff;}#sk-container-id-5 div.sk-serial::before {content: \"\";position: absolute;border-left: 1px solid gray;box-sizing: border-box;top: 0;bottom: 0;left: 50%;z-index: 0;}#sk-container-id-5 div.sk-serial {display: flex;flex-direction: column;align-items: center;background-color: white;padding-right: 0.2em;padding-left: 0.2em;position: relative;}#sk-container-id-5 div.sk-item {position: relative;z-index: 1;}#sk-container-id-5 div.sk-parallel {display: flex;align-items: stretch;justify-content: center;background-color: white;position: relative;}#sk-container-id-5 div.sk-item::before, #sk-container-id-5 div.sk-parallel-item::before {content: \"\";position: absolute;border-left: 1px solid gray;box-sizing: border-box;top: 0;bottom: 0;left: 50%;z-index: -1;}#sk-container-id-5 div.sk-parallel-item {display: flex;flex-direction: column;z-index: 1;position: relative;background-color: white;}#sk-container-id-5 div.sk-parallel-item:first-child::after {align-self: flex-end;width: 50%;}#sk-container-id-5 div.sk-parallel-item:last-child::after {align-self: flex-start;width: 50%;}#sk-container-id-5 div.sk-parallel-item:only-child::after {width: 0;}#sk-container-id-5 div.sk-dashed-wrapped {border: 1px dashed gray;margin: 0 0.4em 0.5em 0.4em;box-sizing: border-box;padding-bottom: 0.4em;background-color: white;}#sk-container-id-5 div.sk-label label {font-family: monospace;font-weight: bold;display: inline-block;line-height: 1.2em;}#sk-container-id-5 div.sk-label-container {text-align: center;}#sk-container-id-5 div.sk-container {/* jupyter's `normalize.less` sets `[hidden] { display: none; }` but bootstrap.min.css set `[hidden] { display: none !important; }` so we also need the `!important` here to be able to override the default hidden behavior on the sphinx rendered scikit-learn.org. See: https://github.com/scikit-learn/scikit-learn/issues/21755 */display: inline-block !important;position: relative;}#sk-container-id-5 div.sk-text-repr-fallback {display: none;}</style><div id=\"sk-container-id-5\" class=\"sk-top-container\"><div class=\"sk-text-repr-fallback\"><pre>LinearRegression()</pre><b>In a Jupyter environment, please rerun this cell to show the HTML representation or trust the notebook. <br />On GitHub, the HTML representation is unable to render, please try loading this page with nbviewer.org.</b></div><div class=\"sk-container\" hidden><div class=\"sk-item\"><div class=\"sk-estimator sk-toggleable\"><input class=\"sk-toggleable__control sk-hidden--visually\" id=\"sk-estimator-id-5\" type=\"checkbox\" checked><label for=\"sk-estimator-id-5\" class=\"sk-toggleable__label sk-toggleable__label-arrow\">LinearRegression</label><div class=\"sk-toggleable__content\"><pre>LinearRegression()</pre></div></div></div></div></div>"
      ],
      "text/plain": [
       "LinearRegression()"
      ]
     },
     "execution_count": 18,
     "metadata": {},
     "output_type": "execute_result"
    }
   ],
   "source": [
    "lm.fit(Z, df['price'])"
   ]
  },
  {
   "cell_type": "markdown",
   "metadata": {},
   "source": [
    "What is the value of the intercept(a)?\n"
   ]
  },
  {
   "cell_type": "code",
   "execution_count": 19,
   "metadata": {},
   "outputs": [
    {
     "data": {
      "text/plain": [
       "-15806.62462632923"
      ]
     },
     "execution_count": 19,
     "metadata": {},
     "output_type": "execute_result"
    }
   ],
   "source": [
    "lm.intercept_"
   ]
  },
  {
   "cell_type": "markdown",
   "metadata": {},
   "source": [
    "What are the values of the coefficients (b1, b2, b3, b4)?\n"
   ]
  },
  {
   "cell_type": "code",
   "execution_count": 20,
   "metadata": {},
   "outputs": [
    {
     "data": {
      "text/plain": [
       "array([53.49574423,  4.70770099, 81.53026382, 36.05748882])"
      ]
     },
     "execution_count": 20,
     "metadata": {},
     "output_type": "execute_result"
    }
   ],
   "source": [
    "lm.coef_"
   ]
  },
  {
   "cell_type": "markdown",
   "metadata": {},
   "source": [
    "What is the final estimated linear model that we get?\n"
   ]
  },
  {
   "cell_type": "markdown",
   "metadata": {},
   "source": [
    "As we saw above, we should get a final linear function with the structure:\n",
    "\n",
    "$$\n",
    "Yhat = a + b\\_1 X\\_1 + b\\_2 X\\_2 + b\\_3 X\\_3 + b\\_4 X\\_4\n",
    "$$\n",
    "\n",
    "What is the linear function we get in this example?\n"
   ]
  },
  {
   "cell_type": "markdown",
   "metadata": {},
   "source": [
    "<b>Price</b> = -15678.742628061467 + 52.65851272 x <b>horsepower</b> + 4.69878948 x <b>curb-weight</b> + 81.95906216 x <b>engine-size</b> + 33.58258185 x <b>highway-mpg</b>\n"
   ]
  },
  {
   "cell_type": "markdown",
   "metadata": {},
   "source": [
    "<div class=\"alert alert-block alert-info\" style=\"margin-top: 20px\">\n",
    "<h3> Question  #2 a): </h3>\n",
    "Create and train a Multiple Linear Regression model \"lm2\" where the response variable is \"price\", and the predictor variable is \"normalized-losses\" and  \"highway-mpg\".\n",
    "</div>\n"
   ]
  },
  {
   "cell_type": "code",
   "execution_count": 21,
   "metadata": {},
   "outputs": [
    {
     "data": {
      "text/html": [
       "<style>#sk-container-id-6 {color: black;background-color: white;}#sk-container-id-6 pre{padding: 0;}#sk-container-id-6 div.sk-toggleable {background-color: white;}#sk-container-id-6 label.sk-toggleable__label {cursor: pointer;display: block;width: 100%;margin-bottom: 0;padding: 0.3em;box-sizing: border-box;text-align: center;}#sk-container-id-6 label.sk-toggleable__label-arrow:before {content: \"▸\";float: left;margin-right: 0.25em;color: #696969;}#sk-container-id-6 label.sk-toggleable__label-arrow:hover:before {color: black;}#sk-container-id-6 div.sk-estimator:hover label.sk-toggleable__label-arrow:before {color: black;}#sk-container-id-6 div.sk-toggleable__content {max-height: 0;max-width: 0;overflow: hidden;text-align: left;background-color: #f0f8ff;}#sk-container-id-6 div.sk-toggleable__content pre {margin: 0.2em;color: black;border-radius: 0.25em;background-color: #f0f8ff;}#sk-container-id-6 input.sk-toggleable__control:checked~div.sk-toggleable__content {max-height: 200px;max-width: 100%;overflow: auto;}#sk-container-id-6 input.sk-toggleable__control:checked~label.sk-toggleable__label-arrow:before {content: \"▾\";}#sk-container-id-6 div.sk-estimator input.sk-toggleable__control:checked~label.sk-toggleable__label {background-color: #d4ebff;}#sk-container-id-6 div.sk-label input.sk-toggleable__control:checked~label.sk-toggleable__label {background-color: #d4ebff;}#sk-container-id-6 input.sk-hidden--visually {border: 0;clip: rect(1px 1px 1px 1px);clip: rect(1px, 1px, 1px, 1px);height: 1px;margin: -1px;overflow: hidden;padding: 0;position: absolute;width: 1px;}#sk-container-id-6 div.sk-estimator {font-family: monospace;background-color: #f0f8ff;border: 1px dotted black;border-radius: 0.25em;box-sizing: border-box;margin-bottom: 0.5em;}#sk-container-id-6 div.sk-estimator:hover {background-color: #d4ebff;}#sk-container-id-6 div.sk-parallel-item::after {content: \"\";width: 100%;border-bottom: 1px solid gray;flex-grow: 1;}#sk-container-id-6 div.sk-label:hover label.sk-toggleable__label {background-color: #d4ebff;}#sk-container-id-6 div.sk-serial::before {content: \"\";position: absolute;border-left: 1px solid gray;box-sizing: border-box;top: 0;bottom: 0;left: 50%;z-index: 0;}#sk-container-id-6 div.sk-serial {display: flex;flex-direction: column;align-items: center;background-color: white;padding-right: 0.2em;padding-left: 0.2em;position: relative;}#sk-container-id-6 div.sk-item {position: relative;z-index: 1;}#sk-container-id-6 div.sk-parallel {display: flex;align-items: stretch;justify-content: center;background-color: white;position: relative;}#sk-container-id-6 div.sk-item::before, #sk-container-id-6 div.sk-parallel-item::before {content: \"\";position: absolute;border-left: 1px solid gray;box-sizing: border-box;top: 0;bottom: 0;left: 50%;z-index: -1;}#sk-container-id-6 div.sk-parallel-item {display: flex;flex-direction: column;z-index: 1;position: relative;background-color: white;}#sk-container-id-6 div.sk-parallel-item:first-child::after {align-self: flex-end;width: 50%;}#sk-container-id-6 div.sk-parallel-item:last-child::after {align-self: flex-start;width: 50%;}#sk-container-id-6 div.sk-parallel-item:only-child::after {width: 0;}#sk-container-id-6 div.sk-dashed-wrapped {border: 1px dashed gray;margin: 0 0.4em 0.5em 0.4em;box-sizing: border-box;padding-bottom: 0.4em;background-color: white;}#sk-container-id-6 div.sk-label label {font-family: monospace;font-weight: bold;display: inline-block;line-height: 1.2em;}#sk-container-id-6 div.sk-label-container {text-align: center;}#sk-container-id-6 div.sk-container {/* jupyter's `normalize.less` sets `[hidden] { display: none; }` but bootstrap.min.css set `[hidden] { display: none !important; }` so we also need the `!important` here to be able to override the default hidden behavior on the sphinx rendered scikit-learn.org. See: https://github.com/scikit-learn/scikit-learn/issues/21755 */display: inline-block !important;position: relative;}#sk-container-id-6 div.sk-text-repr-fallback {display: none;}</style><div id=\"sk-container-id-6\" class=\"sk-top-container\"><div class=\"sk-text-repr-fallback\"><pre>LinearRegression()</pre><b>In a Jupyter environment, please rerun this cell to show the HTML representation or trust the notebook. <br />On GitHub, the HTML representation is unable to render, please try loading this page with nbviewer.org.</b></div><div class=\"sk-container\" hidden><div class=\"sk-item\"><div class=\"sk-estimator sk-toggleable\"><input class=\"sk-toggleable__control sk-hidden--visually\" id=\"sk-estimator-id-6\" type=\"checkbox\" checked><label for=\"sk-estimator-id-6\" class=\"sk-toggleable__label sk-toggleable__label-arrow\">LinearRegression</label><div class=\"sk-toggleable__content\"><pre>LinearRegression()</pre></div></div></div></div></div>"
      ],
      "text/plain": [
       "LinearRegression()"
      ]
     },
     "execution_count": 21,
     "metadata": {},
     "output_type": "execute_result"
    }
   ],
   "source": [
    "# Write your code below and press Shift+Enter to execute \n",
    "lm2= LinearRegression()\n",
    "Z2 = df[['normalized-losses', 'highway-mpg']]\n",
    "lm2.fit(Z2, df['price'])"
   ]
  },
  {
   "cell_type": "markdown",
   "metadata": {},
   "source": [
    "<details><summary>Click here for the solution</summary>\n",
    "\n",
    "```python\n",
    "lm2 = LinearRegression()\n",
    "lm2.fit(df[['normalized-losses' , 'highway-mpg']],df['price'])\n",
    "\n",
    "\n",
    "```\n",
    "\n",
    "</details>\n"
   ]
  },
  {
   "cell_type": "markdown",
   "metadata": {},
   "source": [
    "<div class=\"alert alert-block alert-info\" style=\"margin-top: 20px\">\n",
    "<h3>Question  #2 b): </h3>\n",
    "<b>Find the coefficient of the model.</b>\n",
    "</div>\n"
   ]
  },
  {
   "cell_type": "code",
   "execution_count": 22,
   "metadata": {},
   "outputs": [
    {
     "name": "stdout",
     "output_type": "stream",
     "text": [
      "[   1.49789586 -820.45434016]\n",
      "38201.31327245727\n"
     ]
    }
   ],
   "source": [
    "# Write your code below and press Shift+Enter to execute \n",
    "print(lm2.coef_)\n",
    "print(lm2.intercept_)"
   ]
  },
  {
   "cell_type": "markdown",
   "metadata": {},
   "source": [
    "<details><summary>Click here for the solution</summary>\n",
    "\n",
    "```python\n",
    "lm2.coef_\n",
    "\n",
    "```\n",
    "\n",
    "</details>\n"
   ]
  },
  {
   "cell_type": "markdown",
   "metadata": {},
   "source": [
    "<h2>2. Model Evaluation Using Visualization</h2>\n"
   ]
  },
  {
   "cell_type": "markdown",
   "metadata": {},
   "source": [
    "Now that we've developed some models, how do we evaluate our models and choose the best one? One way to do this is by using a visualization.\n"
   ]
  },
  {
   "cell_type": "markdown",
   "metadata": {},
   "source": [
    "Import the visualization package, seaborn:\n"
   ]
  },
  {
   "cell_type": "code",
   "execution_count": 23,
   "metadata": {},
   "outputs": [],
   "source": [
    "# import the visualization package: seaborn\n",
    "import seaborn as sns\n",
    "%matplotlib inline "
   ]
  },
  {
   "cell_type": "markdown",
   "metadata": {},
   "source": [
    "<h3>Regression Plot</h3>\n"
   ]
  },
  {
   "cell_type": "markdown",
   "metadata": {},
   "source": [
    "<p>When it comes to simple linear regression, an excellent way to visualize the fit of our model is by using <b>regression plots</b>.</p>\n",
    "\n",
    "<p>This plot will show a combination of a scattered data points (a <b>scatterplot</b>), as well as the fitted <b>linear regression</b> line going through the data. This will give us a reasonable estimate of the relationship between the two variables, the strength of the correlation, as well as the direction (positive or negative correlation).</p>\n"
   ]
  },
  {
   "cell_type": "markdown",
   "metadata": {},
   "source": [
    "Let's visualize **highway-mpg** as potential predictor variable of price:\n"
   ]
  },
  {
   "cell_type": "code",
   "execution_count": 24,
   "metadata": {},
   "outputs": [
    {
     "name": "stdout",
     "output_type": "stream",
     "text": [
      "(0.0, 48168.19753366479)\n"
     ]
    },
    {
     "data": {
      "image/png": "[encoded data removed]",
      "text/plain": [
       "<Figure size 576x432 with 1 Axes>"
      ]
     },
     "metadata": {
      "needs_background": "light"
     },
     "output_type": "display_data"
    }
   ],
   "source": [
    "width = 8\n",
    "height = 6\n",
    "\n",
    "\n",
    "plt.figure(figsize=(width, height))\n",
    "sns.regplot(x=\"highway-mpg\", y=\"price\", data=df,\n",
    "                         scatter_kws={\"color\": \"red\"}, line_kws={\"color\": \"blue\"})\n",
    "print(plt.ylim(0,))\n",
    "plt.grid()\n",
    "plt.xlabel('Highway-mpg', fontsize=12, weight='bold')\n",
    "plt.ylabel('Price (US$)', fontsize=12, weight='bold')\n",
    "plt.title('Linear regression - Car price (US$) v. highway-mpg',fontsize=14,weight='bold')\n",
    "plt.show(\"jupyter\")"
   ]
  },
  {
   "cell_type": "markdown",
   "metadata": {},
   "source": [
    "<p>We can see from this plot that price is negatively correlated to highway-mpg since the regression slope is negative.\n",
    "\n",
    "One thing to keep in mind when looking at a regression plot is to pay attention to how scattered the data points are around the regression line. This will give you a good indication of the variance of the data and whether a linear model would be the best fit or not. If the data is too far off from the line, this linear model might not be the best model for this data.\n",
    "\n",
    "Let's compare this plot to the regression plot of \"peak-rpm\".</p>\n"
   ]
  },
  {
   "cell_type": "code",
   "execution_count": 25,
   "metadata": {},
   "outputs": [
    {
     "name": "stdout",
     "output_type": "stream",
     "text": [
      "(0.0, 47414.1)\n"
     ]
    },
    {
     "data": {
      "image/png": "[encoded data removed]",
      "text/plain": [
       "<Figure size 576x432 with 1 Axes>"
      ]
     },
     "metadata": {
      "needs_background": "light"
     },
     "output_type": "display_data"
    }
   ],
   "source": [
    "plt.figure(figsize=(width, height))\n",
    "sns.regplot(x=\"peak-rpm\", y=\"price\", data=df,\n",
    "                         scatter_kws={\"color\": \"blue\"}, line_kws={\"color\": \"red\"})\n",
    "print(plt.ylim(0,))\n",
    "plt.grid()\n",
    "plt.xlabel('Peak-rpm', fontsize=12, weight='bold')\n",
    "plt.ylabel('Price (US$)', fontsize=12, weight='bold')\n",
    "plt.title('Linear regression - Car price (US$) v. peak-rpm',fontsize=14,weight='bold')\n",
    "plt.show(\"jupyter\")"
   ]
  },
  {
   "cell_type": "markdown",
   "metadata": {},
   "source": [
    "<p>Comparing the regression plot of \"peak-rpm\" and \"highway-mpg\", we see that the points for \"highway-mpg\" are much closer to the generated line and, on average, decrease. The points for \"peak-rpm\" have more spread around the predicted line and it is much harder to determine if the points are decreasing or increasing as the \"peak-rpm\" increases.</p>\n"
   ]
  },
  {
   "cell_type": "markdown",
   "metadata": {},
   "source": [
    "<div class=\"alert alert-block alert-info\" style=\"margin-top: 20px\">\n",
    "<h3>Question #3:</h3>\n",
    "<b>Given the regression plots above, is \"peak-rpm\" or \"highway-mpg\" more strongly correlated with \"price\"? Use the method  \".corr()\" to verify your answer.</b>\n",
    "</div>"
   ]
  },
  {
   "cell_type": "code",
   "execution_count": 26,
   "metadata": {},
   "outputs": [
    {
     "data": {
      "text/html": [
       "<div>\n",
       "<style scoped>\n",
       "    .dataframe tbody tr th:only-of-type {\n",
       "        vertical-align: middle;\n",
       "    }\n",
       "\n",
       "    .dataframe tbody tr th {\n",
       "        vertical-align: top;\n",
       "    }\n",
       "\n",
       "    .dataframe thead th {\n",
       "        text-align: right;\n",
       "    }\n",
       "</style>\n",
       "<table border=\"1\" class=\"dataframe\">\n",
       "  <thead>\n",
       "    <tr style=\"text-align: right;\">\n",
       "      <th></th>\n",
       "      <th>peak-rpm</th>\n",
       "      <th>highway-mpg</th>\n",
       "      <th>price</th>\n",
       "    </tr>\n",
       "  </thead>\n",
       "  <tbody>\n",
       "    <tr>\n",
       "      <th>peak-rpm</th>\n",
       "      <td>1.000000</td>\n",
       "      <td>-0.058598</td>\n",
       "      <td>-0.101616</td>\n",
       "    </tr>\n",
       "    <tr>\n",
       "      <th>highway-mpg</th>\n",
       "      <td>-0.058598</td>\n",
       "      <td>1.000000</td>\n",
       "      <td>-0.704692</td>\n",
       "    </tr>\n",
       "    <tr>\n",
       "      <th>price</th>\n",
       "      <td>-0.101616</td>\n",
       "      <td>-0.704692</td>\n",
       "      <td>1.000000</td>\n",
       "    </tr>\n",
       "  </tbody>\n",
       "</table>\n",
       "</div>"
      ],
      "text/plain": [
       "             peak-rpm  highway-mpg     price\n",
       "peak-rpm     1.000000    -0.058598 -0.101616\n",
       "highway-mpg -0.058598     1.000000 -0.704692\n",
       "price       -0.101616    -0.704692  1.000000"
      ]
     },
     "execution_count": 26,
     "metadata": {},
     "output_type": "execute_result"
    }
   ],
   "source": [
    "# Write your code below and press Shift+Enter to execute \n",
    "df.corr()\n",
    "df[['peak-rpm','highway-mpg','price']].corr()"
   ]
  },
  {
   "cell_type": "markdown",
   "metadata": {},
   "source": [
    "<details><summary>Click here for the solution</summary>\n",
    "\n",
    "```python\n",
    "# The variable \"highway-mpg\" has a stronger correlation with \"price\", it is approximate -0.704692  compared to \"peak-rpm\" which is approximate -0.101616. You can verify it using the following command:\n",
    "\n",
    "df[[\"peak-rpm\",\"highway-mpg\",\"price\"]].corr()\n",
    "\n",
    "```\n",
    "\n",
    "</details>\n"
   ]
  },
  {
   "cell_type": "markdown",
   "metadata": {},
   "source": [
    "<h3>Residual Plot</h3>\n",
    "\n",
    "<p>A good way to visualize the variance of the data is to use a residual plot.</p>\n",
    "\n",
    "<p>What is a <b>residual</b>?</p>\n",
    "\n",
    "<p>The difference between the observed value (y) and the predicted value (Yhat) is called the residual (e). When we look at a regression plot, the residual is the distance from the data point to the fitted regression line.</p>\n",
    "\n",
    "<p>So what is a <b>residual plot</b>?</p>\n",
    "\n",
    "<p>A residual plot is a graph that shows the residuals on the vertical y-axis and the independent variable on the horizontal x-axis.</p>\n",
    "\n",
    "<p>What do we pay attention to when looking at a residual plot?</p>\n",
    "\n",
    "<p>We look at the spread of the residuals:</p>\n",
    "\n",
    "<p>- If the points in a residual plot are <b>randomly spread out around the x-axis</b>, then a <b>linear model is appropriate</b> for the data.\n",
    "\n",
    "Why is that? Randomly spread out residuals means that the variance is constant, and thus the linear model is a good fit for this data.</p>\n"
   ]
  },
  {
   "cell_type": "code",
   "execution_count": 27,
   "metadata": {},
   "outputs": [
    {
     "data": {
      "image/png": "[encoded data removed]",
      "text/plain": [
       "<Figure size 576x432 with 1 Axes>"
      ]
     },
     "metadata": {
      "needs_background": "light"
     },
     "output_type": "display_data"
    }
   ],
   "source": [
    "#width = 12\n",
    "#height = 10\n",
    "plt.figure(figsize=(width, height))\n",
    "sns.residplot(data=df, x='highway-mpg', y='price', order=1)\n",
    "plt.grid()\n",
    "plt.xlabel('Highway-mpg', fontsize=12, weight='bold')\n",
    "plt.ylabel('Price (US$)', fontsize=12, weight='bold')\n",
    "plt.title('Linear regression - Residual plot - Car price (US$) v. Highway-mpg',fontsize=14,weight='bold')\n",
    "plt.show(\"jupyter\")"
   ]
  },
  {
   "cell_type": "markdown",
   "metadata": {},
   "source": [
    "<i>What is this plot telling us?</i>\n",
    "\n",
    "<p>We can see from this residual plot that the residuals are not randomly spread around the x-axis, leading us to believe that maybe a non-linear model is more appropriate for this data.</p>\n"
   ]
  },
  {
   "cell_type": "markdown",
   "metadata": {},
   "source": [
    "<h3>Multiple Linear Regression</h3>\n"
   ]
  },
  {
   "cell_type": "markdown",
   "metadata": {},
   "source": [
    "<p>How do we visualize a model for Multiple Linear Regression? This gets a bit more complicated because you can't visualize it with regression or residual plot.</p>"
   ]
  },
  {
   "cell_type": "markdown",
   "metadata": {},
   "source": [
    "#### Feature vector dimensions = 2\n",
    "\n",
    "<span style=\"color:#4169E1\"> We can visualize a model with multiple libear regression in 3D if the number of features is 2. \n",
    "Note: we built a subset of dataframe df: <br> \n",
    "    \n",
    "<span style=\"color:#4169E1\"> -  Z2 = df[['normalized-losses', 'highway-mpg']] \n",
    "\n",
    "<span style=\"color:#4169E1\"> and fitted a multiple linear regression model. <br> \n",
    "\n",
    "<span style=\"color:#4169E1\"> -  lm2.fit(Z2, df['price'])  <br> \n",
    "\n",
    "<span style=\"color:#4169E1\"> that in this case will be a hyperplane in 3D.  "
   ]
  },
  {
   "cell_type": "code",
   "execution_count": 28,
   "metadata": {},
   "outputs": [
    {
     "data": {
      "text/html": [
       "<style>#sk-container-id-7 {color: black;background-color: white;}#sk-container-id-7 pre{padding: 0;}#sk-container-id-7 div.sk-toggleable {background-color: white;}#sk-container-id-7 label.sk-toggleable__label {cursor: pointer;display: block;width: 100%;margin-bottom: 0;padding: 0.3em;box-sizing: border-box;text-align: center;}#sk-container-id-7 label.sk-toggleable__label-arrow:before {content: \"▸\";float: left;margin-right: 0.25em;color: #696969;}#sk-container-id-7 label.sk-toggleable__label-arrow:hover:before {color: black;}#sk-container-id-7 div.sk-estimator:hover label.sk-toggleable__label-arrow:before {color: black;}#sk-container-id-7 div.sk-toggleable__content {max-height: 0;max-width: 0;overflow: hidden;text-align: left;background-color: #f0f8ff;}#sk-container-id-7 div.sk-toggleable__content pre {margin: 0.2em;color: black;border-radius: 0.25em;background-color: #f0f8ff;}#sk-container-id-7 input.sk-toggleable__control:checked~div.sk-toggleable__content {max-height: 200px;max-width: 100%;overflow: auto;}#sk-container-id-7 input.sk-toggleable__control:checked~label.sk-toggleable__label-arrow:before {content: \"▾\";}#sk-container-id-7 div.sk-estimator input.sk-toggleable__control:checked~label.sk-toggleable__label {background-color: #d4ebff;}#sk-container-id-7 div.sk-label input.sk-toggleable__control:checked~label.sk-toggleable__label {background-color: #d4ebff;}#sk-container-id-7 input.sk-hidden--visually {border: 0;clip: rect(1px 1px 1px 1px);clip: rect(1px, 1px, 1px, 1px);height: 1px;margin: -1px;overflow: hidden;padding: 0;position: absolute;width: 1px;}#sk-container-id-7 div.sk-estimator {font-family: monospace;background-color: #f0f8ff;border: 1px dotted black;border-radius: 0.25em;box-sizing: border-box;margin-bottom: 0.5em;}#sk-container-id-7 div.sk-estimator:hover {background-color: #d4ebff;}#sk-container-id-7 div.sk-parallel-item::after {content: \"\";width: 100%;border-bottom: 1px solid gray;flex-grow: 1;}#sk-container-id-7 div.sk-label:hover label.sk-toggleable__label {background-color: #d4ebff;}#sk-container-id-7 div.sk-serial::before {content: \"\";position: absolute;border-left: 1px solid gray;box-sizing: border-box;top: 0;bottom: 0;left: 50%;z-index: 0;}#sk-container-id-7 div.sk-serial {display: flex;flex-direction: column;align-items: center;background-color: white;padding-right: 0.2em;padding-left: 0.2em;position: relative;}#sk-container-id-7 div.sk-item {position: relative;z-index: 1;}#sk-container-id-7 div.sk-parallel {display: flex;align-items: stretch;justify-content: center;background-color: white;position: relative;}#sk-container-id-7 div.sk-item::before, #sk-container-id-7 div.sk-parallel-item::before {content: \"\";position: absolute;border-left: 1px solid gray;box-sizing: border-box;top: 0;bottom: 0;left: 50%;z-index: -1;}#sk-container-id-7 div.sk-parallel-item {display: flex;flex-direction: column;z-index: 1;position: relative;background-color: white;}#sk-container-id-7 div.sk-parallel-item:first-child::after {align-self: flex-end;width: 50%;}#sk-container-id-7 div.sk-parallel-item:last-child::after {align-self: flex-start;width: 50%;}#sk-container-id-7 div.sk-parallel-item:only-child::after {width: 0;}#sk-container-id-7 div.sk-dashed-wrapped {border: 1px dashed gray;margin: 0 0.4em 0.5em 0.4em;box-sizing: border-box;padding-bottom: 0.4em;background-color: white;}#sk-container-id-7 div.sk-label label {font-family: monospace;font-weight: bold;display: inline-block;line-height: 1.2em;}#sk-container-id-7 div.sk-label-container {text-align: center;}#sk-container-id-7 div.sk-container {/* jupyter's `normalize.less` sets `[hidden] { display: none; }` but bootstrap.min.css set `[hidden] { display: none !important; }` so we also need the `!important` here to be able to override the default hidden behavior on the sphinx rendered scikit-learn.org. See: https://github.com/scikit-learn/scikit-learn/issues/21755 */display: inline-block !important;position: relative;}#sk-container-id-7 div.sk-text-repr-fallback {display: none;}</style><div id=\"sk-container-id-7\" class=\"sk-top-container\"><div class=\"sk-text-repr-fallback\"><pre>LinearRegression()</pre><b>In a Jupyter environment, please rerun this cell to show the HTML representation or trust the notebook. <br />On GitHub, the HTML representation is unable to render, please try loading this page with nbviewer.org.</b></div><div class=\"sk-container\" hidden><div class=\"sk-item\"><div class=\"sk-estimator sk-toggleable\"><input class=\"sk-toggleable__control sk-hidden--visually\" id=\"sk-estimator-id-7\" type=\"checkbox\" checked><label for=\"sk-estimator-id-7\" class=\"sk-toggleable__label sk-toggleable__label-arrow\">LinearRegression</label><div class=\"sk-toggleable__content\"><pre>LinearRegression()</pre></div></div></div></div></div>"
      ],
      "text/plain": [
       "LinearRegression()"
      ]
     },
     "execution_count": 28,
     "metadata": {},
     "output_type": "execute_result"
    }
   ],
   "source": [
    "# Write your code below and press Shift+Enter to execute \n",
    "lm3= LinearRegression()\n",
    "###Z2 = df[['normalized-losses', 'highway-mpg']]\n",
    "Z3=df[['peak-rpm','highway-mpg']]\n",
    "lm3.fit(Z3, df['price'])"
   ]
  },
  {
   "cell_type": "code",
   "execution_count": 29,
   "metadata": {},
   "outputs": [
    {
     "data": {
      "text/plain": [
       "50922.34651693445"
      ]
     },
     "execution_count": 29,
     "metadata": {},
     "output_type": "execute_result"
    }
   ],
   "source": [
    "lm3.intercept_"
   ]
  },
  {
   "cell_type": "code",
   "execution_count": 30,
   "metadata": {},
   "outputs": [
    {
     "data": {
      "text/plain": [
       "array([  -2.383578  , -831.53200055])"
      ]
     },
     "execution_count": 30,
     "metadata": {},
     "output_type": "execute_result"
    }
   ],
   "source": [
    "lm3.coef_"
   ]
  },
  {
   "cell_type": "code",
   "execution_count": 31,
   "metadata": {
    "scrolled": false
   },
   "outputs": [
    {
     "data": {
      "application/javascript": [
       "/* Put everything inside the global mpl namespace */\n",
       "/* global mpl */\n",
       "window.mpl = {};\n",
       "\n",
       "mpl.get_websocket_type = function () {\n",
       "    if (typeof WebSocket !== 'undefined') {\n",
       "        return WebSocket;\n",
       "    } else if (typeof MozWebSocket !== 'undefined') {\n",
       "        return MozWebSocket;\n",
       "    } else {\n",
       "        alert(\n",
       "            'Your browser does not have WebSocket support. ' +\n",
       "                'Please try Chrome, Safari or Firefox ≥ 6. ' +\n",
       "                'Firefox 4 and 5 are also supported but you ' +\n",
       "                'have to enable WebSockets in about:config.'\n",
       "        );\n",
       "    }\n",
       "};\n",
       "\n",
       "mpl.figure = function (figure_id, websocket, ondownload, parent_element) {\n",
       "    this.id = figure_id;\n",
       "\n",
       "    this.ws = websocket;\n",
       "\n",
       "    this.supports_binary = this.ws.binaryType !== undefined;\n",
       "\n",
       "    if (!this.supports_binary) {\n",
       "        var warnings = document.getElementById('mpl-warnings');\n",
       "        if (warnings) {\n",
       "            warnings.style.display = 'block';\n",
       "            warnings.textContent =\n",
       "                'This browser does not support binary websocket messages. ' +\n",
       "                'Performance may be slow.';\n",
       "        }\n",
       "    }\n",
       "\n",
       "    this.imageObj = new Image();\n",
       "\n",
       "    this.context = undefined;\n",
       "    this.message = undefined;\n",
       "    this.canvas = undefined;\n",
       "    this.rubberband_canvas = undefined;\n",
       "    this.rubberband_context = undefined;\n",
       "    this.format_dropdown = undefined;\n",
       "\n",
       "    this.image_mode = 'full';\n",
       "\n",
       "    this.root = document.createElement('div');\n",
       "    this.root.setAttribute('style', 'display: inline-block');\n",
       "    this._root_extra_style(this.root);\n",
       "\n",
       "    parent_element.appendChild(this.root);\n",
       "\n",
       "    this._init_header(this);\n",
       "    this._init_canvas(this);\n",
       "    this._init_toolbar(this);\n",
       "\n",
       "    var fig = this;\n",
       "\n",
       "    this.waiting = false;\n",
       "\n",
       "    this.ws.onopen = function () {\n",
       "        fig.send_message('supports_binary', { value: fig.supports_binary });\n",
       "        fig.send_message('send_image_mode', {});\n",
       "        if (fig.ratio !== 1) {\n",
       "            fig.send_message('set_dpi_ratio', { dpi_ratio: fig.ratio });\n",
       "        }\n",
       "        fig.send_message('refresh', {});\n",
       "    };\n",
       "\n",
       "    this.imageObj.onload = function () {\n",
       "        if (fig.image_mode === 'full') {\n",
       "            // Full images could contain transparency (where diff images\n",
       "            // almost always do), so we need to clear the canvas so that\n",
       "            // there is no ghosting.\n",
       "            fig.context.clearRect(0, 0, fig.canvas.width, fig.canvas.height);\n",
       "        }\n",
       "        fig.context.drawImage(fig.imageObj, 0, 0);\n",
       "    };\n",
       "\n",
       "    this.imageObj.onunload = function () {\n",
       "        fig.ws.close();\n",
       "    };\n",
       "\n",
       "    this.ws.onmessage = this._make_on_message_function(this);\n",
       "\n",
       "    this.ondownload = ondownload;\n",
       "};\n",
       "\n",
       "mpl.figure.prototype._init_header = function () {\n",
       "    var titlebar = document.createElement('div');\n",
       "    titlebar.classList =\n",
       "        'ui-dialog-titlebar ui-widget-header ui-corner-all ui-helper-clearfix';\n",
       "    var titletext = document.createElement('div');\n",
       "    titletext.classList = 'ui-dialog-title';\n",
       "    titletext.setAttribute(\n",
       "        'style',\n",
       "        'width: 100%; text-align: center; padding: 3px;'\n",
       "    );\n",
       "    titlebar.appendChild(titletext);\n",
       "    this.root.appendChild(titlebar);\n",
       "    this.header = titletext;\n",
       "};\n",
       "\n",
       "mpl.figure.prototype._canvas_extra_style = function (_canvas_div) {};\n",
       "\n",
       "mpl.figure.prototype._root_extra_style = function (_canvas_div) {};\n",
       "\n",
       "mpl.figure.prototype._init_canvas = function () {\n",
       "    var fig = this;\n",
       "\n",
       "    var canvas_div = (this.canvas_div = document.createElement('div'));\n",
       "    canvas_div.setAttribute(\n",
       "        'style',\n",
       "        'border: 1px solid #ddd;' +\n",
       "            'box-sizing: content-box;' +\n",
       "            'clear: both;' +\n",
       "            'min-height: 1px;' +\n",
       "            'min-width: 1px;' +\n",
       "            'outline: 0;' +\n",
       "            'overflow: hidden;' +\n",
       "            'position: relative;' +\n",
       "            'resize: both;'\n",
       "    );\n",
       "\n",
       "    function on_keyboard_event_closure(name) {\n",
       "        return function (event) {\n",
       "            return fig.key_event(event, name);\n",
       "        };\n",
       "    }\n",
       "\n",
       "    canvas_div.addEventListener(\n",
       "        'keydown',\n",
       "        on_keyboard_event_closure('key_press')\n",
       "    );\n",
       "    canvas_div.addEventListener(\n",
       "        'keyup',\n",
       "        on_keyboard_event_closure('key_release')\n",
       "    );\n",
       "\n",
       "    this._canvas_extra_style(canvas_div);\n",
       "    this.root.appendChild(canvas_div);\n",
       "\n",
       "    var canvas = (this.canvas = document.createElement('canvas'));\n",
       "    canvas.classList.add('mpl-canvas');\n",
       "    canvas.setAttribute('style', 'box-sizing: content-box;');\n",
       "\n",
       "    this.context = canvas.getContext('2d');\n",
       "\n",
       "    var backingStore =\n",
       "        this.context.backingStorePixelRatio ||\n",
       "        this.context.webkitBackingStorePixelRatio ||\n",
       "        this.context.mozBackingStorePixelRatio ||\n",
       "        this.context.msBackingStorePixelRatio ||\n",
       "        this.context.oBackingStorePixelRatio ||\n",
       "        this.context.backingStorePixelRatio ||\n",
       "        1;\n",
       "\n",
       "    this.ratio = (window.devicePixelRatio || 1) / backingStore;\n",
       "\n",
       "    var rubberband_canvas = (this.rubberband_canvas = document.createElement(\n",
       "        'canvas'\n",
       "    ));\n",
       "    rubberband_canvas.setAttribute(\n",
       "        'style',\n",
       "        'box-sizing: content-box; position: absolute; left: 0; top: 0; z-index: 1;'\n",
       "    );\n",
       "\n",
       "    // Apply a ponyfill if ResizeObserver is not implemented by browser.\n",
       "    if (this.ResizeObserver === undefined) {\n",
       "        if (window.ResizeObserver !== undefined) {\n",
       "            this.ResizeObserver = window.ResizeObserver;\n",
       "        } else {\n",
       "            var obs = _JSXTOOLS_RESIZE_OBSERVER({});\n",
       "            this.ResizeObserver = obs.ResizeObserver;\n",
       "        }\n",
       "    }\n",
       "\n",
       "    this.resizeObserverInstance = new this.ResizeObserver(function (entries) {\n",
       "        var nentries = entries.length;\n",
       "        for (var i = 0; i < nentries; i++) {\n",
       "            var entry = entries[i];\n",
       "            var width, height;\n",
       "            if (entry.contentBoxSize) {\n",
       "                if (entry.contentBoxSize instanceof Array) {\n",
       "                    // Chrome 84 implements new version of spec.\n",
       "                    width = entry.contentBoxSize[0].inlineSize;\n",
       "                    height = entry.contentBoxSize[0].blockSize;\n",
       "                } else {\n",
       "                    // Firefox implements old version of spec.\n",
       "                    width = entry.contentBoxSize.inlineSize;\n",
       "                    height = entry.contentBoxSize.blockSize;\n",
       "                }\n",
       "            } else {\n",
       "                // Chrome <84 implements even older version of spec.\n",
       "                width = entry.contentRect.width;\n",
       "                height = entry.contentRect.height;\n",
       "            }\n",
       "\n",
       "            // Keep the size of the canvas and rubber band canvas in sync with\n",
       "            // the canvas container.\n",
       "            if (entry.devicePixelContentBoxSize) {\n",
       "                // Chrome 84 implements new version of spec.\n",
       "                canvas.setAttribute(\n",
       "                    'width',\n",
       "                    entry.devicePixelContentBoxSize[0].inlineSize\n",
       "                );\n",
       "                canvas.setAttribute(\n",
       "                    'height',\n",
       "                    entry.devicePixelContentBoxSize[0].blockSize\n",
       "                );\n",
       "            } else {\n",
       "                canvas.setAttribute('width', width * fig.ratio);\n",
       "                canvas.setAttribute('height', height * fig.ratio);\n",
       "            }\n",
       "            canvas.setAttribute(\n",
       "                'style',\n",
       "                'width: ' + width + 'px; height: ' + height + 'px;'\n",
       "            );\n",
       "\n",
       "            rubberband_canvas.setAttribute('width', width);\n",
       "            rubberband_canvas.setAttribute('height', height);\n",
       "\n",
       "            // And update the size in Python. We ignore the initial 0/0 size\n",
       "            // that occurs as the element is placed into the DOM, which should\n",
       "            // otherwise not happen due to the minimum size styling.\n",
       "            if (fig.ws.readyState == 1 && width != 0 && height != 0) {\n",
       "                fig.request_resize(width, height);\n",
       "            }\n",
       "        }\n",
       "    });\n",
       "    this.resizeObserverInstance.observe(canvas_div);\n",
       "\n",
       "    function on_mouse_event_closure(name) {\n",
       "        return function (event) {\n",
       "            return fig.mouse_event(event, name);\n",
       "        };\n",
       "    }\n",
       "\n",
       "    rubberband_canvas.addEventListener(\n",
       "        'mousedown',\n",
       "        on_mouse_event_closure('button_press')\n",
       "    );\n",
       "    rubberband_canvas.addEventListener(\n",
       "        'mouseup',\n",
       "        on_mouse_event_closure('button_release')\n",
       "    );\n",
       "    rubberband_canvas.addEventListener(\n",
       "        'dblclick',\n",
       "        on_mouse_event_closure('dblclick')\n",
       "    );\n",
       "    // Throttle sequential mouse events to 1 every 20ms.\n",
       "    rubberband_canvas.addEventListener(\n",
       "        'mousemove',\n",
       "        on_mouse_event_closure('motion_notify')\n",
       "    );\n",
       "\n",
       "    rubberband_canvas.addEventListener(\n",
       "        'mouseenter',\n",
       "        on_mouse_event_closure('figure_enter')\n",
       "    );\n",
       "    rubberband_canvas.addEventListener(\n",
       "        'mouseleave',\n",
       "        on_mouse_event_closure('figure_leave')\n",
       "    );\n",
       "\n",
       "    canvas_div.addEventListener('wheel', function (event) {\n",
       "        if (event.deltaY < 0) {\n",
       "            event.step = 1;\n",
       "        } else {\n",
       "            event.step = -1;\n",
       "        }\n",
       "        on_mouse_event_closure('scroll')(event);\n",
       "    });\n",
       "\n",
       "    canvas_div.appendChild(canvas);\n",
       "    canvas_div.appendChild(rubberband_canvas);\n",
       "\n",
       "    this.rubberband_context = rubberband_canvas.getContext('2d');\n",
       "    this.rubberband_context.strokeStyle = '#000000';\n",
       "\n",
       "    this._resize_canvas = function (width, height, forward) {\n",
       "        if (forward) {\n",
       "            canvas_div.style.width = width + 'px';\n",
       "            canvas_div.style.height = height + 'px';\n",
       "        }\n",
       "    };\n",
       "\n",
       "    // Disable right mouse context menu.\n",
       "    this.rubberband_canvas.addEventListener('contextmenu', function (_e) {\n",
       "        event.preventDefault();\n",
       "        return false;\n",
       "    });\n",
       "\n",
       "    function set_focus() {\n",
       "        canvas.focus();\n",
       "        canvas_div.focus();\n",
       "    }\n",
       "\n",
       "    window.setTimeout(set_focus, 100);\n",
       "};\n",
       "\n",
       "mpl.figure.prototype._init_toolbar = function () {\n",
       "    var fig = this;\n",
       "\n",
       "    var toolbar = document.createElement('div');\n",
       "    toolbar.classList = 'mpl-toolbar';\n",
       "    this.root.appendChild(toolbar);\n",
       "\n",
       "    function on_click_closure(name) {\n",
       "        return function (_event) {\n",
       "            return fig.toolbar_button_onclick(name);\n",
       "        };\n",
       "    }\n",
       "\n",
       "    function on_mouseover_closure(tooltip) {\n",
       "        return function (event) {\n",
       "            if (!event.currentTarget.disabled) {\n",
       "                return fig.toolbar_button_onmouseover(tooltip);\n",
       "            }\n",
       "        };\n",
       "    }\n",
       "\n",
       "    fig.buttons = {};\n",
       "    var buttonGroup = document.createElement('div');\n",
       "    buttonGroup.classList = 'mpl-button-group';\n",
       "    for (var toolbar_ind in mpl.toolbar_items) {\n",
       "        var name = mpl.toolbar_items[toolbar_ind][0];\n",
       "        var tooltip = mpl.toolbar_items[toolbar_ind][1];\n",
       "        var image = mpl.toolbar_items[toolbar_ind][2];\n",
       "        var method_name = mpl.toolbar_items[toolbar_ind][3];\n",
       "\n",
       "        if (!name) {\n",
       "            /* Instead of a spacer, we start a new button group. */\n",
       "            if (buttonGroup.hasChildNodes()) {\n",
       "                toolbar.appendChild(buttonGroup);\n",
       "            }\n",
       "            buttonGroup = document.createElement('div');\n",
       "            buttonGroup.classList = 'mpl-button-group';\n",
       "            continue;\n",
       "        }\n",
       "\n",
       "        var button = (fig.buttons[name] = document.createElement('button'));\n",
       "        button.classList = 'mpl-widget';\n",
       "        button.setAttribute('role', 'button');\n",
       "        button.setAttribute('aria-disabled', 'false');\n",
       "        button.addEventListener('click', on_click_closure(method_name));\n",
       "        button.addEventListener('mouseover', on_mouseover_closure(tooltip));\n",
       "\n",
       "        var icon_img = document.createElement('img');\n",
       "        icon_img.src = '_images/' + image + '.png';\n",
       "        icon_img.srcset = '_images/' + image + '_large.png 2x';\n",
       "        icon_img.alt = tooltip;\n",
       "        button.appendChild(icon_img);\n",
       "\n",
       "        buttonGroup.appendChild(button);\n",
       "    }\n",
       "\n",
       "    if (buttonGroup.hasChildNodes()) {\n",
       "        toolbar.appendChild(buttonGroup);\n",
       "    }\n",
       "\n",
       "    var fmt_picker = document.createElement('select');\n",
       "    fmt_picker.classList = 'mpl-widget';\n",
       "    toolbar.appendChild(fmt_picker);\n",
       "    this.format_dropdown = fmt_picker;\n",
       "\n",
       "    for (var ind in mpl.extensions) {\n",
       "        var fmt = mpl.extensions[ind];\n",
       "        var option = document.createElement('option');\n",
       "        option.selected = fmt === mpl.default_extension;\n",
       "        option.innerHTML = fmt;\n",
       "        fmt_picker.appendChild(option);\n",
       "    }\n",
       "\n",
       "    var status_bar = document.createElement('span');\n",
       "    status_bar.classList = 'mpl-message';\n",
       "    toolbar.appendChild(status_bar);\n",
       "    this.message = status_bar;\n",
       "};\n",
       "\n",
       "mpl.figure.prototype.request_resize = function (x_pixels, y_pixels) {\n",
       "    // Request matplotlib to resize the figure. Matplotlib will then trigger a resize in the client,\n",
       "    // which will in turn request a refresh of the image.\n",
       "    this.send_message('resize', { width: x_pixels, height: y_pixels });\n",
       "};\n",
       "\n",
       "mpl.figure.prototype.send_message = function (type, properties) {\n",
       "    properties['type'] = type;\n",
       "    properties['figure_id'] = this.id;\n",
       "    this.ws.send(JSON.stringify(properties));\n",
       "};\n",
       "\n",
       "mpl.figure.prototype.send_draw_message = function () {\n",
       "    if (!this.waiting) {\n",
       "        this.waiting = true;\n",
       "        this.ws.send(JSON.stringify({ type: 'draw', figure_id: this.id }));\n",
       "    }\n",
       "};\n",
       "\n",
       "mpl.figure.prototype.handle_save = function (fig, _msg) {\n",
       "    var format_dropdown = fig.format_dropdown;\n",
       "    var format = format_dropdown.options[format_dropdown.selectedIndex].value;\n",
       "    fig.ondownload(fig, format);\n",
       "};\n",
       "\n",
       "mpl.figure.prototype.handle_resize = function (fig, msg) {\n",
       "    var size = msg['size'];\n",
       "    if (size[0] !== fig.canvas.width || size[1] !== fig.canvas.height) {\n",
       "        fig._resize_canvas(size[0], size[1], msg['forward']);\n",
       "        fig.send_message('refresh', {});\n",
       "    }\n",
       "};\n",
       "\n",
       "mpl.figure.prototype.handle_rubberband = function (fig, msg) {\n",
       "    var x0 = msg['x0'] / fig.ratio;\n",
       "    var y0 = (fig.canvas.height - msg['y0']) / fig.ratio;\n",
       "    var x1 = msg['x1'] / fig.ratio;\n",
       "    var y1 = (fig.canvas.height - msg['y1']) / fig.ratio;\n",
       "    x0 = Math.floor(x0) + 0.5;\n",
       "    y0 = Math.floor(y0) + 0.5;\n",
       "    x1 = Math.floor(x1) + 0.5;\n",
       "    y1 = Math.floor(y1) + 0.5;\n",
       "    var min_x = Math.min(x0, x1);\n",
       "    var min_y = Math.min(y0, y1);\n",
       "    var width = Math.abs(x1 - x0);\n",
       "    var height = Math.abs(y1 - y0);\n",
       "\n",
       "    fig.rubberband_context.clearRect(\n",
       "        0,\n",
       "        0,\n",
       "        fig.canvas.width / fig.ratio,\n",
       "        fig.canvas.height / fig.ratio\n",
       "    );\n",
       "\n",
       "    fig.rubberband_context.strokeRect(min_x, min_y, width, height);\n",
       "};\n",
       "\n",
       "mpl.figure.prototype.handle_figure_label = function (fig, msg) {\n",
       "    // Updates the figure title.\n",
       "    fig.header.textContent = msg['label'];\n",
       "};\n",
       "\n",
       "mpl.figure.prototype.handle_cursor = function (fig, msg) {\n",
       "    var cursor = msg['cursor'];\n",
       "    switch (cursor) {\n",
       "        case 0:\n",
       "            cursor = 'pointer';\n",
       "            break;\n",
       "        case 1:\n",
       "            cursor = 'default';\n",
       "            break;\n",
       "        case 2:\n",
       "            cursor = 'crosshair';\n",
       "            break;\n",
       "        case 3:\n",
       "            cursor = 'move';\n",
       "            break;\n",
       "    }\n",
       "    fig.rubberband_canvas.style.cursor = cursor;\n",
       "};\n",
       "\n",
       "mpl.figure.prototype.handle_message = function (fig, msg) {\n",
       "    fig.message.textContent = msg['message'];\n",
       "};\n",
       "\n",
       "mpl.figure.prototype.handle_draw = function (fig, _msg) {\n",
       "    // Request the server to send over a new figure.\n",
       "    fig.send_draw_message();\n",
       "};\n",
       "\n",
       "mpl.figure.prototype.handle_image_mode = function (fig, msg) {\n",
       "    fig.image_mode = msg['mode'];\n",
       "};\n",
       "\n",
       "mpl.figure.prototype.handle_history_buttons = function (fig, msg) {\n",
       "    for (var key in msg) {\n",
       "        if (!(key in fig.buttons)) {\n",
       "            continue;\n",
       "        }\n",
       "        fig.buttons[key].disabled = !msg[key];\n",
       "        fig.buttons[key].setAttribute('aria-disabled', !msg[key]);\n",
       "    }\n",
       "};\n",
       "\n",
       "mpl.figure.prototype.handle_navigate_mode = function (fig, msg) {\n",
       "    if (msg['mode'] === 'PAN') {\n",
       "        fig.buttons['Pan'].classList.add('active');\n",
       "        fig.buttons['Zoom'].classList.remove('active');\n",
       "    } else if (msg['mode'] === 'ZOOM') {\n",
       "        fig.buttons['Pan'].classList.remove('active');\n",
       "        fig.buttons['Zoom'].classList.add('active');\n",
       "    } else {\n",
       "        fig.buttons['Pan'].classList.remove('active');\n",
       "        fig.buttons['Zoom'].classList.remove('active');\n",
       "    }\n",
       "};\n",
       "\n",
       "mpl.figure.prototype.updated_canvas_event = function () {\n",
       "    // Called whenever the canvas gets updated.\n",
       "    this.send_message('ack', {});\n",
       "};\n",
       "\n",
       "// A function to construct a web socket function for onmessage handling.\n",
       "// Called in the figure constructor.\n",
       "mpl.figure.prototype._make_on_message_function = function (fig) {\n",
       "    return function socket_on_message(evt) {\n",
       "        if (evt.data instanceof Blob) {\n",
       "            var img = evt.data;\n",
       "            if (img.type !== 'image/png') {\n",
       "                /* FIXME: We get \"Resource interpreted as Image but\n",
       "                 * transferred with MIME type text/plain:\" errors on\n",
       "                 * Chrome.  But how to set the MIME type?  It doesn't seem\n",
       "                 * to be part of the websocket stream */\n",
       "                img.type = 'image/png';\n",
       "            }\n",
       "\n",
       "            /* Free the memory for the previous frames */\n",
       "            if (fig.imageObj.src) {\n",
       "                (window.URL || window.webkitURL).revokeObjectURL(\n",
       "                    fig.imageObj.src\n",
       "                );\n",
       "            }\n",
       "\n",
       "            fig.imageObj.src = (window.URL || window.webkitURL).createObjectURL(\n",
       "                img\n",
       "            );\n",
       "            fig.updated_canvas_event();\n",
       "            fig.waiting = false;\n",
       "            return;\n",
       "        } else if (\n",
       "            typeof evt.data === 'string' &&\n",
       "            evt.data.slice(0, 21) === 'data:image/png;base64'\n",
       "        ) {\n",
       "            fig.imageObj.src = evt.data;\n",
       "            fig.updated_canvas_event();\n",
       "            fig.waiting = false;\n",
       "            return;\n",
       "        }\n",
       "\n",
       "        var msg = JSON.parse(evt.data);\n",
       "        var msg_type = msg['type'];\n",
       "\n",
       "        // Call the  \"handle_{type}\" callback, which takes\n",
       "        // the figure and JSON message as its only arguments.\n",
       "        try {\n",
       "            var callback = fig['handle_' + msg_type];\n",
       "        } catch (e) {\n",
       "            console.log(\n",
       "                \"No handler for the '\" + msg_type + \"' message type: \",\n",
       "                msg\n",
       "            );\n",
       "            return;\n",
       "        }\n",
       "\n",
       "        if (callback) {\n",
       "            try {\n",
       "                // console.log(\"Handling '\" + msg_type + \"' message: \", msg);\n",
       "                callback(fig, msg);\n",
       "            } catch (e) {\n",
       "                console.log(\n",
       "                    \"Exception inside the 'handler_\" + msg_type + \"' callback:\",\n",
       "                    e,\n",
       "                    e.stack,\n",
       "                    msg\n",
       "                );\n",
       "            }\n",
       "        }\n",
       "    };\n",
       "};\n",
       "\n",
       "// from http://stackoverflow.com/questions/1114465/getting-mouse-location-in-canvas\n",
       "mpl.findpos = function (e) {\n",
       "    //this section is from http://www.quirksmode.org/js/events_properties.html\n",
       "    var targ;\n",
       "    if (!e) {\n",
       "        e = window.event;\n",
       "    }\n",
       "    if (e.target) {\n",
       "        targ = e.target;\n",
       "    } else if (e.srcElement) {\n",
       "        targ = e.srcElement;\n",
       "    }\n",
       "    if (targ.nodeType === 3) {\n",
       "        // defeat Safari bug\n",
       "        targ = targ.parentNode;\n",
       "    }\n",
       "\n",
       "    // pageX,Y are the mouse positions relative to the document\n",
       "    var boundingRect = targ.getBoundingClientRect();\n",
       "    var x = e.pageX - (boundingRect.left + document.body.scrollLeft);\n",
       "    var y = e.pageY - (boundingRect.top + document.body.scrollTop);\n",
       "\n",
       "    return { x: x, y: y };\n",
       "};\n",
       "\n",
       "/*\n",
       " * return a copy of an object with only non-object keys\n",
       " * we need this to avoid circular references\n",
       " * http://stackoverflow.com/a/24161582/3208463\n",
       " */\n",
       "function simpleKeys(original) {\n",
       "    return Object.keys(original).reduce(function (obj, key) {\n",
       "        if (typeof original[key] !== 'object') {\n",
       "            obj[key] = original[key];\n",
       "        }\n",
       "        return obj;\n",
       "    }, {});\n",
       "}\n",
       "\n",
       "mpl.figure.prototype.mouse_event = function (event, name) {\n",
       "    var canvas_pos = mpl.findpos(event);\n",
       "\n",
       "    if (name === 'button_press') {\n",
       "        this.canvas.focus();\n",
       "        this.canvas_div.focus();\n",
       "    }\n",
       "\n",
       "    var x = canvas_pos.x * this.ratio;\n",
       "    var y = canvas_pos.y * this.ratio;\n",
       "\n",
       "    this.send_message(name, {\n",
       "        x: x,\n",
       "        y: y,\n",
       "        button: event.button,\n",
       "        step: event.step,\n",
       "        guiEvent: simpleKeys(event),\n",
       "    });\n",
       "\n",
       "    /* This prevents the web browser from automatically changing to\n",
       "     * the text insertion cursor when the button is pressed.  We want\n",
       "     * to control all of the cursor setting manually through the\n",
       "     * 'cursor' event from matplotlib */\n",
       "    event.preventDefault();\n",
       "    return false;\n",
       "};\n",
       "\n",
       "mpl.figure.prototype._key_event_extra = function (_event, _name) {\n",
       "    // Handle any extra behaviour associated with a key event\n",
       "};\n",
       "\n",
       "mpl.figure.prototype.key_event = function (event, name) {\n",
       "    // Prevent repeat events\n",
       "    if (name === 'key_press') {\n",
       "        if (event.key === this._key) {\n",
       "            return;\n",
       "        } else {\n",
       "            this._key = event.key;\n",
       "        }\n",
       "    }\n",
       "    if (name === 'key_release') {\n",
       "        this._key = null;\n",
       "    }\n",
       "\n",
       "    var value = '';\n",
       "    if (event.ctrlKey && event.key !== 'Control') {\n",
       "        value += 'ctrl+';\n",
       "    }\n",
       "    else if (event.altKey && event.key !== 'Alt') {\n",
       "        value += 'alt+';\n",
       "    }\n",
       "    else if (event.shiftKey && event.key !== 'Shift') {\n",
       "        value += 'shift+';\n",
       "    }\n",
       "\n",
       "    value += 'k' + event.key;\n",
       "\n",
       "    this._key_event_extra(event, name);\n",
       "\n",
       "    this.send_message(name, { key: value, guiEvent: simpleKeys(event) });\n",
       "    return false;\n",
       "};\n",
       "\n",
       "mpl.figure.prototype.toolbar_button_onclick = function (name) {\n",
       "    if (name === 'download') {\n",
       "        this.handle_save(this, null);\n",
       "    } else {\n",
       "        this.send_message('toolbar_button', { name: name });\n",
       "    }\n",
       "};\n",
       "\n",
       "mpl.figure.prototype.toolbar_button_onmouseover = function (tooltip) {\n",
       "    this.message.textContent = tooltip;\n",
       "};\n",
       "\n",
       "///////////////// REMAINING CONTENT GENERATED BY embed_js.py /////////////////\n",
       "// prettier-ignore\n",
       "var _JSXTOOLS_RESIZE_OBSERVER=function(A){var t,i=new WeakMap,n=new WeakMap,a=new WeakMap,r=new WeakMap,o=new Set;function s(e){if(!(this instanceof s))throw new TypeError(\"Constructor requires 'new' operator\");i.set(this,e)}function h(){throw new TypeError(\"Function is not a constructor\")}function c(e,t,i,n){e=0 in arguments?Number(arguments[0]):0,t=1 in arguments?Number(arguments[1]):0,i=2 in arguments?Number(arguments[2]):0,n=3 in arguments?Number(arguments[3]):0,this.right=(this.x=this.left=e)+(this.width=i),this.bottom=(this.y=this.top=t)+(this.height=n),Object.freeze(this)}function d(){t=requestAnimationFrame(d);var s=new WeakMap,p=new Set;o.forEach((function(t){r.get(t).forEach((function(i){var r=t instanceof window.SVGElement,o=a.get(t),d=r?0:parseFloat(o.paddingTop),f=r?0:parseFloat(o.paddingRight),l=r?0:parseFloat(o.paddingBottom),u=r?0:parseFloat(o.paddingLeft),g=r?0:parseFloat(o.borderTopWidth),m=r?0:parseFloat(o.borderRightWidth),w=r?0:parseFloat(o.borderBottomWidth),b=u+f,F=d+l,v=(r?0:parseFloat(o.borderLeftWidth))+m,W=g+w,y=r?0:t.offsetHeight-W-t.clientHeight,E=r?0:t.offsetWidth-v-t.clientWidth,R=b+v,z=F+W,M=r?t.width:parseFloat(o.width)-R-E,O=r?t.height:parseFloat(o.height)-z-y;if(n.has(t)){var k=n.get(t);if(k[0]===M&&k[1]===O)return}n.set(t,[M,O]);var S=Object.create(h.prototype);S.target=t,S.contentRect=new c(u,d,M,O),s.has(i)||(s.set(i,[]),p.add(i)),s.get(i).push(S)}))})),p.forEach((function(e){i.get(e).call(e,s.get(e),e)}))}return s.prototype.observe=function(i){if(i instanceof window.Element){r.has(i)||(r.set(i,new Set),o.add(i),a.set(i,window.getComputedStyle(i)));var n=r.get(i);n.has(this)||n.add(this),cancelAnimationFrame(t),t=requestAnimationFrame(d)}},s.prototype.unobserve=function(i){if(i instanceof window.Element&&r.has(i)){var n=r.get(i);n.has(this)&&(n.delete(this),n.size||(r.delete(i),o.delete(i))),n.size||r.delete(i),o.size||cancelAnimationFrame(t)}},A.DOMRectReadOnly=c,A.ResizeObserver=s,A.ResizeObserverEntry=h,A}; // eslint-disable-line\n",
       "mpl.toolbar_items = [[\"Home\", \"Reset original view\", \"fa fa-home icon-home\", \"home\"], [\"Back\", \"Back to previous view\", \"fa fa-arrow-left icon-arrow-left\", \"back\"], [\"Forward\", \"Forward to next view\", \"fa fa-arrow-right icon-arrow-right\", \"forward\"], [\"\", \"\", \"\", \"\"], [\"Pan\", \"Left button pans, Right button zooms\\nx/y fixes axis, CTRL fixes aspect\", \"fa fa-arrows icon-move\", \"pan\"], [\"Zoom\", \"Zoom to rectangle\\nx/y fixes axis, CTRL fixes aspect\", \"fa fa-square-o icon-check-empty\", \"zoom\"], [\"\", \"\", \"\", \"\"], [\"Download\", \"Download plot\", \"fa fa-floppy-o icon-save\", \"download\"]];\n",
       "\n",
       "mpl.extensions = [\"eps\", \"jpeg\", \"pgf\", \"pdf\", \"png\", \"ps\", \"raw\", \"svg\", \"tif\"];\n",
       "\n",
       "mpl.default_extension = \"png\";/* global mpl */\n",
       "\n",
       "var comm_websocket_adapter = function (comm) {\n",
       "    // Create a \"websocket\"-like object which calls the given IPython comm\n",
       "    // object with the appropriate methods. Currently this is a non binary\n",
       "    // socket, so there is still some room for performance tuning.\n",
       "    var ws = {};\n",
       "\n",
       "    ws.binaryType = comm.kernel.ws.binaryType;\n",
       "    ws.readyState = comm.kernel.ws.readyState;\n",
       "    function updateReadyState(_event) {\n",
       "        if (comm.kernel.ws) {\n",
       "            ws.readyState = comm.kernel.ws.readyState;\n",
       "        } else {\n",
       "            ws.readyState = 3; // Closed state.\n",
       "        }\n",
       "    }\n",
       "    comm.kernel.ws.addEventListener('open', updateReadyState);\n",
       "    comm.kernel.ws.addEventListener('close', updateReadyState);\n",
       "    comm.kernel.ws.addEventListener('error', updateReadyState);\n",
       "\n",
       "    ws.close = function () {\n",
       "        comm.close();\n",
       "    };\n",
       "    ws.send = function (m) {\n",
       "        //console.log('sending', m);\n",
       "        comm.send(m);\n",
       "    };\n",
       "    // Register the callback with on_msg.\n",
       "    comm.on_msg(function (msg) {\n",
       "        //console.log('receiving', msg['content']['data'], msg);\n",
       "        var data = msg['content']['data'];\n",
       "        if (data['blob'] !== undefined) {\n",
       "            data = {\n",
       "                data: new Blob(msg['buffers'], { type: data['blob'] }),\n",
       "            };\n",
       "        }\n",
       "        // Pass the mpl event to the overridden (by mpl) onmessage function.\n",
       "        ws.onmessage(data);\n",
       "    });\n",
       "    return ws;\n",
       "};\n",
       "\n",
       "mpl.mpl_figure_comm = function (comm, msg) {\n",
       "    // This is the function which gets called when the mpl process\n",
       "    // starts-up an IPython Comm through the \"matplotlib\" channel.\n",
       "\n",
       "    var id = msg.content.data.id;\n",
       "    // Get hold of the div created by the display call when the Comm\n",
       "    // socket was opened in Python.\n",
       "    var element = document.getElementById(id);\n",
       "    var ws_proxy = comm_websocket_adapter(comm);\n",
       "\n",
       "    function ondownload(figure, _format) {\n",
       "        window.open(figure.canvas.toDataURL());\n",
       "    }\n",
       "\n",
       "    var fig = new mpl.figure(id, ws_proxy, ondownload, element);\n",
       "\n",
       "    // Call onopen now - mpl needs it, as it is assuming we've passed it a real\n",
       "    // web socket which is closed, not our websocket->open comm proxy.\n",
       "    ws_proxy.onopen();\n",
       "\n",
       "    fig.parent_element = element;\n",
       "    fig.cell_info = mpl.find_output_cell(\"<div id='\" + id + \"'></div>\");\n",
       "    if (!fig.cell_info) {\n",
       "        console.error('Failed to find cell for figure', id, fig);\n",
       "        return;\n",
       "    }\n",
       "    fig.cell_info[0].output_area.element.on(\n",
       "        'cleared',\n",
       "        { fig: fig },\n",
       "        fig._remove_fig_handler\n",
       "    );\n",
       "};\n",
       "\n",
       "mpl.figure.prototype.handle_close = function (fig, msg) {\n",
       "    var width = fig.canvas.width / fig.ratio;\n",
       "    fig.cell_info[0].output_area.element.off(\n",
       "        'cleared',\n",
       "        fig._remove_fig_handler\n",
       "    );\n",
       "    fig.resizeObserverInstance.unobserve(fig.canvas_div);\n",
       "\n",
       "    // Update the output cell to use the data from the current canvas.\n",
       "    fig.push_to_output();\n",
       "    var dataURL = fig.canvas.toDataURL();\n",
       "    // Re-enable the keyboard manager in IPython - without this line, in FF,\n",
       "    // the notebook keyboard shortcuts fail.\n",
       "    IPython.keyboard_manager.enable();\n",
       "    fig.parent_element.innerHTML =\n",
       "        '<img src=\"' + dataURL + '\" width=\"' + width + '\">';\n",
       "    fig.close_ws(fig, msg);\n",
       "};\n",
       "\n",
       "mpl.figure.prototype.close_ws = function (fig, msg) {\n",
       "    fig.send_message('closing', msg);\n",
       "    // fig.ws.close()\n",
       "};\n",
       "\n",
       "mpl.figure.prototype.push_to_output = function (_remove_interactive) {\n",
       "    // Turn the data on the canvas into data in the output cell.\n",
       "    var width = this.canvas.width / this.ratio;\n",
       "    var dataURL = this.canvas.toDataURL();\n",
       "    this.cell_info[1]['text/html'] =\n",
       "        '<img src=\"' + dataURL + '\" width=\"' + width + '\">';\n",
       "};\n",
       "\n",
       "mpl.figure.prototype.updated_canvas_event = function () {\n",
       "    // Tell IPython that the notebook contents must change.\n",
       "    IPython.notebook.set_dirty(true);\n",
       "    this.send_message('ack', {});\n",
       "    var fig = this;\n",
       "    // Wait a second, then push the new image to the DOM so\n",
       "    // that it is saved nicely (might be nice to debounce this).\n",
       "    setTimeout(function () {\n",
       "        fig.push_to_output();\n",
       "    }, 1000);\n",
       "};\n",
       "\n",
       "mpl.figure.prototype._init_toolbar = function () {\n",
       "    var fig = this;\n",
       "\n",
       "    var toolbar = document.createElement('div');\n",
       "    toolbar.classList = 'btn-toolbar';\n",
       "    this.root.appendChild(toolbar);\n",
       "\n",
       "    function on_click_closure(name) {\n",
       "        return function (_event) {\n",
       "            return fig.toolbar_button_onclick(name);\n",
       "        };\n",
       "    }\n",
       "\n",
       "    function on_mouseover_closure(tooltip) {\n",
       "        return function (event) {\n",
       "            if (!event.currentTarget.disabled) {\n",
       "                return fig.toolbar_button_onmouseover(tooltip);\n",
       "            }\n",
       "        };\n",
       "    }\n",
       "\n",
       "    fig.buttons = {};\n",
       "    var buttonGroup = document.createElement('div');\n",
       "    buttonGroup.classList = 'btn-group';\n",
       "    var button;\n",
       "    for (var toolbar_ind in mpl.toolbar_items) {\n",
       "        var name = mpl.toolbar_items[toolbar_ind][0];\n",
       "        var tooltip = mpl.toolbar_items[toolbar_ind][1];\n",
       "        var image = mpl.toolbar_items[toolbar_ind][2];\n",
       "        var method_name = mpl.toolbar_items[toolbar_ind][3];\n",
       "\n",
       "        if (!name) {\n",
       "            /* Instead of a spacer, we start a new button group. */\n",
       "            if (buttonGroup.hasChildNodes()) {\n",
       "                toolbar.appendChild(buttonGroup);\n",
       "            }\n",
       "            buttonGroup = document.createElement('div');\n",
       "            buttonGroup.classList = 'btn-group';\n",
       "            continue;\n",
       "        }\n",
       "\n",
       "        button = fig.buttons[name] = document.createElement('button');\n",
       "        button.classList = 'btn btn-default';\n",
       "        button.href = '#';\n",
       "        button.title = name;\n",
       "        button.innerHTML = '<i class=\"fa ' + image + ' fa-lg\"></i>';\n",
       "        button.addEventListener('click', on_click_closure(method_name));\n",
       "        button.addEventListener('mouseover', on_mouseover_closure(tooltip));\n",
       "        buttonGroup.appendChild(button);\n",
       "    }\n",
       "\n",
       "    if (buttonGroup.hasChildNodes()) {\n",
       "        toolbar.appendChild(buttonGroup);\n",
       "    }\n",
       "\n",
       "    // Add the status bar.\n",
       "    var status_bar = document.createElement('span');\n",
       "    status_bar.classList = 'mpl-message pull-right';\n",
       "    toolbar.appendChild(status_bar);\n",
       "    this.message = status_bar;\n",
       "\n",
       "    // Add the close button to the window.\n",
       "    var buttongrp = document.createElement('div');\n",
       "    buttongrp.classList = 'btn-group inline pull-right';\n",
       "    button = document.createElement('button');\n",
       "    button.classList = 'btn btn-mini btn-primary';\n",
       "    button.href = '#';\n",
       "    button.title = 'Stop Interaction';\n",
       "    button.innerHTML = '<i class=\"fa fa-power-off icon-remove icon-large\"></i>';\n",
       "    button.addEventListener('click', function (_evt) {\n",
       "        fig.handle_close(fig, {});\n",
       "    });\n",
       "    button.addEventListener(\n",
       "        'mouseover',\n",
       "        on_mouseover_closure('Stop Interaction')\n",
       "    );\n",
       "    buttongrp.appendChild(button);\n",
       "    var titlebar = this.root.querySelector('.ui-dialog-titlebar');\n",
       "    titlebar.insertBefore(buttongrp, titlebar.firstChild);\n",
       "};\n",
       "\n",
       "mpl.figure.prototype._remove_fig_handler = function (event) {\n",
       "    var fig = event.data.fig;\n",
       "    if (event.target !== this) {\n",
       "        // Ignore bubbled events from children.\n",
       "        return;\n",
       "    }\n",
       "    fig.close_ws(fig, {});\n",
       "};\n",
       "\n",
       "mpl.figure.prototype._root_extra_style = function (el) {\n",
       "    el.style.boxSizing = 'content-box'; // override notebook setting of border-box.\n",
       "};\n",
       "\n",
       "mpl.figure.prototype._canvas_extra_style = function (el) {\n",
       "    // this is important to make the div 'focusable\n",
       "    el.setAttribute('tabindex', 0);\n",
       "    // reach out to IPython and tell the keyboard manager to turn it's self\n",
       "    // off when our div gets focus\n",
       "\n",
       "    // location in version 3\n",
       "    if (IPython.notebook.keyboard_manager) {\n",
       "        IPython.notebook.keyboard_manager.register_events(el);\n",
       "    } else {\n",
       "        // location in version 2\n",
       "        IPython.keyboard_manager.register_events(el);\n",
       "    }\n",
       "};\n",
       "\n",
       "mpl.figure.prototype._key_event_extra = function (event, _name) {\n",
       "    var manager = IPython.notebook.keyboard_manager;\n",
       "    if (!manager) {\n",
       "        manager = IPython.keyboard_manager;\n",
       "    }\n",
       "\n",
       "    // Check for shift+enter\n",
       "    if (event.shiftKey && event.which === 13) {\n",
       "        this.canvas_div.blur();\n",
       "        // select the cell after this one\n",
       "        var index = IPython.notebook.find_cell_index(this.cell_info[0]);\n",
       "        IPython.notebook.select(index + 1);\n",
       "    }\n",
       "};\n",
       "\n",
       "mpl.figure.prototype.handle_save = function (fig, _msg) {\n",
       "    fig.ondownload(fig, null);\n",
       "};\n",
       "\n",
       "mpl.find_output_cell = function (html_output) {\n",
       "    // Return the cell and output element which can be found *uniquely* in the notebook.\n",
       "    // Note - this is a bit hacky, but it is done because the \"notebook_saving.Notebook\"\n",
       "    // IPython event is triggered only after the cells have been serialised, which for\n",
       "    // our purposes (turning an active figure into a static one), is too late.\n",
       "    var cells = IPython.notebook.get_cells();\n",
       "    var ncells = cells.length;\n",
       "    for (var i = 0; i < ncells; i++) {\n",
       "        var cell = cells[i];\n",
       "        if (cell.cell_type === 'code') {\n",
       "            for (var j = 0; j < cell.output_area.outputs.length; j++) {\n",
       "                var data = cell.output_area.outputs[j];\n",
       "                if (data.data) {\n",
       "                    // IPython >= 3 moved mimebundle to data attribute of output\n",
       "                    data = data.data;\n",
       "                }\n",
       "                if (data['text/html'] === html_output) {\n",
       "                    return [cell, data, j];\n",
       "                }\n",
       "            }\n",
       "        }\n",
       "    }\n",
       "};\n",
       "\n",
       "// Register the function which deals with the matplotlib target/channel.\n",
       "// The kernel may be null if the page has been refreshed.\n",
       "if (IPython.notebook.kernel !== null) {\n",
       "    IPython.notebook.kernel.comm_manager.register_target(\n",
       "        'matplotlib',\n",
       "        mpl.mpl_figure_comm\n",
       "    );\n",
       "}\n"
      ],
      "text/plain": [
       "<IPython.core.display.Javascript object>"
      ]
     },
     "metadata": {},
     "output_type": "display_data"
    },
    {
     "data": {
      "text/html": [
       "<img src=\"data:image/png;base64,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\" width=\"864\">"
      ],
      "text/plain": [
       "<IPython.core.display.HTML object>"
      ]
     },
     "metadata": {},
     "output_type": "display_data"
    },
    {
     "data": {
      "text/plain": [
       "<matplotlib.legend.Legend at 0x2aa445864f0>"
      ]
     },
     "execution_count": 31,
     "metadata": {},
     "output_type": "execute_result"
    }
   ],
   "source": [
    "from mpl_toolkits import mplot3d\n",
    "import numpy as np\n",
    "import matplotlib.pyplot as plt\n",
    "%matplotlib notebook\n",
    "\n",
    "fig = plt.figure(figsize = (12, 8))\n",
    "ax = plt.axes(projection =\"3d\")\n",
    "\n",
    "#------------   Plotting 3D data ! with scatter3D\n",
    "x=df['peak-rpm'].to_numpy()\n",
    "y=df['highway-mpg'].to_numpy()\n",
    "z=df['price'].to_numpy()\n",
    "\n",
    "ax.grid(b = True, color ='grey',\n",
    "        linestyle ='-.', linewidth = 0.3,\n",
    "        alpha = 0.2)\n",
    "sctt = ax.scatter3D(x, y, z,\n",
    "                    alpha = 0.8,\n",
    "                    marker ='o',\n",
    "                    color='crimson')\n",
    "ax.set_xlabel('Peak-rpm', fontweight ='bold',fontsize=12)\n",
    "ax.set_ylabel('Highway-mpg', fontweight ='bold',fontsize=12)\n",
    "ax.set_zlabel('Price (US$)', fontweight ='bold',fontsize=12)\n",
    "plt.title('Muliple Linear regressions - Car price (US$) v. (Peak rpm)&(Highway-mpg)',fontsize=14,weight='bold')\n",
    "\n",
    "#------------   Plotting 3D hyperplane  !\n",
    "u= np.linspace(np.min(x),np.max(x),50)\n",
    "v= np.linspace(np.min(y),np.max(y),50)\n",
    "\n",
    "XX,YY= np.meshgrid(u,v)\n",
    "ZZ=  lm3.coef_[0]*XX     + lm3.coef_[1]*YY   +  lm3.intercept_  # Equation of the hyperplane. \n",
    "\n",
    "sctt = ax.scatter3D(XX, YY, ZZ,\n",
    "                    alpha = 0.3,\n",
    "                    marker ='.',\n",
    "                    color='blue')\n",
    "plt.legend(['Data','Linear regression hyperplane'])\n",
    "\n",
    "\n",
    "\n"
   ]
  },
  {
   "cell_type": "markdown",
   "metadata": {},
   "source": [
    "<span style=\"color:#4169E1\">  The linear hyperplane is in blue. The fit is not ideal, mainly due to the linear fit for \"highway-mpg\"."
   ]
  },
  {
   "cell_type": "markdown",
   "metadata": {},
   "source": [
    "#### Feature vector dimensions > 2"
   ]
  },
  {
   "cell_type": "markdown",
   "metadata": {},
   "source": [
    "<p> If the feature vector dimension > 2, one way to look at the fit of the model is by looking at the <b>distribution plot</b>. We can look at the distribution of the fitted values that result from the model and compare it to the distribution of the actual values.</p>"
   ]
  },
  {
   "cell_type": "markdown",
   "metadata": {},
   "source": [
    "First, let's make a prediction:\n"
   ]
  },
  {
   "cell_type": "markdown",
   "metadata": {},
   "source": [
    "Note :  Z = df[['horsepower', 'curb-weight', 'engine-size', 'highway-mpg']]    (4 variables or features)"
   ]
  },
  {
   "cell_type": "code",
   "execution_count": 32,
   "metadata": {},
   "outputs": [],
   "source": [
    "Y_hat = lm.predict(Z)  # price v. 4 features in Z"
   ]
  },
  {
   "cell_type": "code",
   "execution_count": 33,
   "metadata": {},
   "outputs": [
    {
     "data": {
      "image/png": "[encoded data removed]",
      "text/plain": [
       "<Figure size 576x432 with 1 Axes>"
      ]
     },
     "metadata": {
      "needs_background": "light"
     },
     "output_type": "display_data"
    }
   ],
   "source": [
    "%matplotlib inline \n",
    "#width = 9\n",
    "#height = 7\n",
    "plt.figure(figsize=(width, height))\n",
    "#ax1= sns.displot(df['price'], kind=\"kde\", color=\"r\", label=\"Actual Value\") # remark displot doesn't like \"figuresize\"\n",
    "ax1= sns.kdeplot(df['price'], color=\"r\")\n",
    "sns.kdeplot(x=Y_hat, color='b', ax=ax1)\n",
    "plt.legend(['Actual Value','Predicted value'])\n",
    "plt.grid()\n",
    "plt.title('Actual vs Fitted Values for Price',fontsize=14,weight='bold')\n",
    "plt.xlabel('Price (in dollars)', fontsize=12, weight='bold')\n",
    "plt.ylabel('Proportion of Cars', fontsize=12, weight='bold')\n",
    "plt.show(\"jupyter\")\n",
    "#plt.close()"
   ]
  },
  {
   "cell_type": "markdown",
   "metadata": {},
   "source": [
    "<p><b>We can see that the fitted values are reasonably close to the actual values since the two distributions overlap a bit. However, there is definitely some room for improvement.</b></p>\n"
   ]
  },
  {
   "cell_type": "markdown",
   "metadata": {},
   "source": [
    "<h2>3. Polynomial Regression and Pipelines</h2>\n"
   ]
  },
  {
   "cell_type": "markdown",
   "metadata": {},
   "source": [
    "<p><b>Polynomial regression</b> is a particular case of the general linear regression model or multiple linear regression models.</p> \n",
    "<p>We get non-linear relationships by squaring or setting higher-order terms of the predictor variables.</p>\n",
    "\n",
    "<p>There are different orders of polynomial regression:</p>\n"
   ]
  },
  {
   "cell_type": "markdown",
   "metadata": {},
   "source": [
    "<center><b>Quadratic - 2nd Order</b></center>\n",
    "$$\n",
    "Yhat = a + b_1 X +b_2 X^2 \n",
    "$$\n",
    "\n",
    "<center><b>Cubic - 3rd Order</b></center>\n",
    "$$\n",
    "Yhat = a + b_1 X +b_2 X^2 +b_3 X^3\\\\\\\\\\\\\\\\\n",
    "$$\n",
    "\n",
    "<center><b>Higher-Order</b>:</center>\n",
    "$$\n",
    "Y = a + b_1 X +b_2 X^2 +b_3 X^3 ....\\\\\\\\\n",
    "$$\n"
   ]
  },
  {
   "cell_type": "markdown",
   "metadata": {},
   "source": [
    "<p>We saw earlier that a linear model did not provide the best fit while using \"highway-mpg\" as the predictor variable. Let's see if we can try fitting a polynomial model to the data instead.</p>\n"
   ]
  },
  {
   "cell_type": "markdown",
   "metadata": {},
   "source": [
    "<p>We will use the following function to plot the data:</p>\n"
   ]
  },
  {
   "cell_type": "code",
   "execution_count": 34,
   "metadata": {},
   "outputs": [],
   "source": [
    "def PlotPolly(model, independent_variable, dependent_variable, Name):\n",
    "    x_new = np.linspace(15, 55, 100)\n",
    "    y_new = model(x_new)\n",
    "\n",
    "    plt.plot(independent_variable, dependent_variable, '.', x_new, y_new, '-')\n",
    "    plt.title('Polynomial Fit with Matplotlib for Price v. Variable')\n",
    "    ax = plt.gca()\n",
    "    #ax.set_facecolor((0.898, 0.898, 0.898))\n",
    "    fig = plt.gcf()\n",
    "    plt.grid()\n",
    "    plt.xlabel(Name)\n",
    "    plt.ylabel('Price of Cars US$')\n",
    "\n",
    "    plt.show(\"jupyter\")\n",
    "    plt.close()"
   ]
  },
  {
   "cell_type": "markdown",
   "metadata": {},
   "source": [
    "Let's get the variables:\n"
   ]
  },
  {
   "cell_type": "code",
   "execution_count": 35,
   "metadata": {},
   "outputs": [],
   "source": [
    "x = df['highway-mpg']\n",
    "y = df['price']"
   ]
  },
  {
   "cell_type": "markdown",
   "metadata": {},
   "source": [
    "Let's fit the polynomial using the function <b>polyfit</b>, then use the function <b>poly1d</b> to display the polynomial function.\n"
   ]
  },
  {
   "cell_type": "code",
   "execution_count": 36,
   "metadata": {},
   "outputs": [
    {
     "name": "stdout",
     "output_type": "stream",
     "text": [
      "        3         2\n",
      "-1.557 x + 204.8 x - 8965 x + 1.379e+05\n"
     ]
    }
   ],
   "source": [
    "# Here we use a polynomial of the 3rd order (cubic) \n",
    "f = np.polyfit(x, y, 3)\n",
    "p = np.poly1d(f)\n",
    "print(p)"
   ]
  },
  {
   "cell_type": "markdown",
   "metadata": {},
   "source": [
    "Let's plot the function:\n"
   ]
  },
  {
   "cell_type": "code",
   "execution_count": 37,
   "metadata": {},
   "outputs": [
    {
     "data": {
      "image/png": "[encoded data removed]",
      "text/plain": [
       "<Figure size 432x288 with 1 Axes>"
      ]
     },
     "metadata": {
      "needs_background": "light"
     },
     "output_type": "display_data"
    }
   ],
   "source": [
    "PlotPolly(p, x, y, 'highway-mpg')"
   ]
  },
  {
   "cell_type": "code",
   "execution_count": 38,
   "metadata": {},
   "outputs": [
    {
     "data": {
      "text/plain": [
       "array([-1.55663829e+00,  2.04754306e+02, -8.96543312e+03,  1.37923594e+05])"
      ]
     },
     "execution_count": 38,
     "metadata": {},
     "output_type": "execute_result"
    }
   ],
   "source": [
    "np.polyfit(x, y, 3)"
   ]
  },
  {
   "cell_type": "markdown",
   "metadata": {},
   "source": [
    "<p>We can already see from plotting that this polynomial model performs better than the linear model. This is because the generated polynomial function  \"hits\" more of the data points.</p>\n"
   ]
  },
  {
   "cell_type": "markdown",
   "metadata": {},
   "source": [
    "<div class=\"alert alert-block alert-info\" style=\"margin-top: 20px\">\n",
    "<h3>Question  #4:</h3>\n",
    "<b>Create 11 order polynomial model with the variables x and y from above.</b>\n",
    "</div>\n"
   ]
  },
  {
   "cell_type": "code",
   "execution_count": 40,
   "metadata": {},
   "outputs": [
    {
     "name": "stdout",
     "output_type": "stream",
     "text": [
      "            11             10             9           8         7\n",
      "-1.243e-08 x  + 4.722e-06 x  - 0.0008028 x + 0.08056 x - 5.297 x\n",
      "          6        5             4             3             2\n",
      " + 239.5 x - 7588 x + 1.684e+05 x - 2.565e+06 x + 2.551e+07 x - 1.491e+08 x + 3.879e+08\n"
     ]
    },
    {
     "data": {
      "image/png": "[encoded data removed]",
      "text/plain": [
       "<Figure size 432x288 with 1 Axes>"
      ]
     },
     "metadata": {
      "needs_background": "light"
     },
     "output_type": "display_data"
    }
   ],
   "source": [
    "# Write your code below and press Shift+Enter to execute \n",
    "# Here we use a polynomial of the 3rd order (cubic) \n",
    "f11 = np.polyfit(x, y, 11)\n",
    "p11 = np.poly1d(f11)\n",
    "print(p11)\n",
    "PlotPolly(p11, x, y, 'highway-mpg')"
   ]
  },
  {
   "cell_type": "markdown",
   "metadata": {},
   "source": [
    "<span style=\"color:#4169E1\"> In this case the model overfits the data. Assuming that cars (or vehicles) with mpg> 55 exist, we would not be able to accurately predict their price with this model.  "
   ]
  },
  {
   "cell_type": "markdown",
   "metadata": {},
   "source": [
    "<details><summary>Click here for the solution</summary>\n",
    "\n",
    "```python\n",
    "# Here we use a polynomial of the 11rd order (cubic) \n",
    "f1 = np.polyfit(x, y, 11)\n",
    "p1 = np.poly1d(f1)\n",
    "print(p1)\n",
    "PlotPolly(p1,x,y, 'Highway MPG')\n",
    "\n",
    "```\n",
    "\n",
    "</details>\n"
   ]
  },
  {
   "cell_type": "markdown",
   "metadata": {},
   "source": [
    "### Multivariate Polynomial function"
   ]
  },
  {
   "cell_type": "markdown",
   "metadata": {},
   "source": [
    "<p>The analytical expression for Multivariate Polynomial function gets complicated. For example, the expression for a second-order (degree=2) polynomial with two variables is given by:</p>\n"
   ]
  },
  {
   "cell_type": "markdown",
   "metadata": {},
   "source": [
    "$$\n",
    "Yhat = a + b_{1} X_1 +b_2 X_2 +b_3 X_1 X_2+b_4 X_1^2+b_5 X_2^2\n",
    "$$\n"
   ]
  },
  {
   "cell_type": "markdown",
   "metadata": {},
   "source": [
    "We can perform a polynomial transform on multiple features. First, we import the module:\n"
   ]
  },
  {
   "cell_type": "code",
   "execution_count": 41,
   "metadata": {},
   "outputs": [],
   "source": [
    "from sklearn.preprocessing import PolynomialFeatures"
   ]
  },
  {
   "cell_type": "markdown",
   "metadata": {},
   "source": [
    "We create a <b>PolynomialFeatures</b> object of degree 2:\n"
   ]
  },
  {
   "cell_type": "code",
   "execution_count": 42,
   "metadata": {},
   "outputs": [],
   "source": [
    "Z = df[['horsepower', 'curb-weight', 'engine-size', 'highway-mpg']]"
   ]
  },
  {
   "cell_type": "code",
   "execution_count": 43,
   "metadata": {},
   "outputs": [
    {
     "data": {
      "text/html": [
       "<style>#sk-container-id-8 {color: black;background-color: white;}#sk-container-id-8 pre{padding: 0;}#sk-container-id-8 div.sk-toggleable {background-color: white;}#sk-container-id-8 label.sk-toggleable__label {cursor: pointer;display: block;width: 100%;margin-bottom: 0;padding: 0.3em;box-sizing: border-box;text-align: center;}#sk-container-id-8 label.sk-toggleable__label-arrow:before {content: \"▸\";float: left;margin-right: 0.25em;color: #696969;}#sk-container-id-8 label.sk-toggleable__label-arrow:hover:before {color: black;}#sk-container-id-8 div.sk-estimator:hover label.sk-toggleable__label-arrow:before {color: black;}#sk-container-id-8 div.sk-toggleable__content {max-height: 0;max-width: 0;overflow: hidden;text-align: left;background-color: #f0f8ff;}#sk-container-id-8 div.sk-toggleable__content pre {margin: 0.2em;color: black;border-radius: 0.25em;background-color: #f0f8ff;}#sk-container-id-8 input.sk-toggleable__control:checked~div.sk-toggleable__content {max-height: 200px;max-width: 100%;overflow: auto;}#sk-container-id-8 input.sk-toggleable__control:checked~label.sk-toggleable__label-arrow:before {content: \"▾\";}#sk-container-id-8 div.sk-estimator input.sk-toggleable__control:checked~label.sk-toggleable__label {background-color: #d4ebff;}#sk-container-id-8 div.sk-label input.sk-toggleable__control:checked~label.sk-toggleable__label {background-color: #d4ebff;}#sk-container-id-8 input.sk-hidden--visually {border: 0;clip: rect(1px 1px 1px 1px);clip: rect(1px, 1px, 1px, 1px);height: 1px;margin: -1px;overflow: hidden;padding: 0;position: absolute;width: 1px;}#sk-container-id-8 div.sk-estimator {font-family: monospace;background-color: #f0f8ff;border: 1px dotted black;border-radius: 0.25em;box-sizing: border-box;margin-bottom: 0.5em;}#sk-container-id-8 div.sk-estimator:hover {background-color: #d4ebff;}#sk-container-id-8 div.sk-parallel-item::after {content: \"\";width: 100%;border-bottom: 1px solid gray;flex-grow: 1;}#sk-container-id-8 div.sk-label:hover label.sk-toggleable__label {background-color: #d4ebff;}#sk-container-id-8 div.sk-serial::before {content: \"\";position: absolute;border-left: 1px solid gray;box-sizing: border-box;top: 0;bottom: 0;left: 50%;z-index: 0;}#sk-container-id-8 div.sk-serial {display: flex;flex-direction: column;align-items: center;background-color: white;padding-right: 0.2em;padding-left: 0.2em;position: relative;}#sk-container-id-8 div.sk-item {position: relative;z-index: 1;}#sk-container-id-8 div.sk-parallel {display: flex;align-items: stretch;justify-content: center;background-color: white;position: relative;}#sk-container-id-8 div.sk-item::before, #sk-container-id-8 div.sk-parallel-item::before {content: \"\";position: absolute;border-left: 1px solid gray;box-sizing: border-box;top: 0;bottom: 0;left: 50%;z-index: -1;}#sk-container-id-8 div.sk-parallel-item {display: flex;flex-direction: column;z-index: 1;position: relative;background-color: white;}#sk-container-id-8 div.sk-parallel-item:first-child::after {align-self: flex-end;width: 50%;}#sk-container-id-8 div.sk-parallel-item:last-child::after {align-self: flex-start;width: 50%;}#sk-container-id-8 div.sk-parallel-item:only-child::after {width: 0;}#sk-container-id-8 div.sk-dashed-wrapped {border: 1px dashed gray;margin: 0 0.4em 0.5em 0.4em;box-sizing: border-box;padding-bottom: 0.4em;background-color: white;}#sk-container-id-8 div.sk-label label {font-family: monospace;font-weight: bold;display: inline-block;line-height: 1.2em;}#sk-container-id-8 div.sk-label-container {text-align: center;}#sk-container-id-8 div.sk-container {/* jupyter's `normalize.less` sets `[hidden] { display: none; }` but bootstrap.min.css set `[hidden] { display: none !important; }` so we also need the `!important` here to be able to override the default hidden behavior on the sphinx rendered scikit-learn.org. See: https://github.com/scikit-learn/scikit-learn/issues/21755 */display: inline-block !important;position: relative;}#sk-container-id-8 div.sk-text-repr-fallback {display: none;}</style><div id=\"sk-container-id-8\" class=\"sk-top-container\"><div class=\"sk-text-repr-fallback\"><pre>PolynomialFeatures()</pre><b>In a Jupyter environment, please rerun this cell to show the HTML representation or trust the notebook. <br />On GitHub, the HTML representation is unable to render, please try loading this page with nbviewer.org.</b></div><div class=\"sk-container\" hidden><div class=\"sk-item\"><div class=\"sk-estimator sk-toggleable\"><input class=\"sk-toggleable__control sk-hidden--visually\" id=\"sk-estimator-id-8\" type=\"checkbox\" checked><label for=\"sk-estimator-id-8\" class=\"sk-toggleable__label sk-toggleable__label-arrow\">PolynomialFeatures</label><div class=\"sk-toggleable__content\"><pre>PolynomialFeatures()</pre></div></div></div></div></div>"
      ],
      "text/plain": [
       "PolynomialFeatures()"
      ]
     },
     "execution_count": 43,
     "metadata": {},
     "output_type": "execute_result"
    }
   ],
   "source": [
    "pr=PolynomialFeatures(degree=2)\n",
    "pr"
   ]
  },
  {
   "cell_type": "code",
   "execution_count": 44,
   "metadata": {},
   "outputs": [],
   "source": [
    "Z_pr=pr.fit_transform(Z)"
   ]
  },
  {
   "cell_type": "markdown",
   "metadata": {},
   "source": [
    "In the original data, there are 201 samples and 4 features.\n"
   ]
  },
  {
   "cell_type": "code",
   "execution_count": 45,
   "metadata": {},
   "outputs": [
    {
     "data": {
      "text/plain": [
       "(201, 4)"
      ]
     },
     "execution_count": 45,
     "metadata": {},
     "output_type": "execute_result"
    }
   ],
   "source": [
    "Z.shape"
   ]
  },
  {
   "cell_type": "markdown",
   "metadata": {},
   "source": [
    "After the transformation, there are 201 samples and 15 features.\n"
   ]
  },
  {
   "cell_type": "code",
   "execution_count": 46,
   "metadata": {},
   "outputs": [
    {
     "data": {
      "text/plain": [
       "(201, 15)"
      ]
     },
     "execution_count": 46,
     "metadata": {},
     "output_type": "execute_result"
    }
   ],
   "source": [
    "Z_pr.shape"
   ]
  },
  {
   "cell_type": "markdown",
   "metadata": {},
   "source": [
    "<h2>Pipeline</h2>\n"
   ]
  },
  {
   "cell_type": "markdown",
   "metadata": {},
   "source": [
    "<p>Data Pipelines simplify the steps of processing the data. We use the module <b>Pipeline</b> to create a pipeline. We also use <b>StandardScaler</b> as a step in our pipeline.</p>\n"
   ]
  },
  {
   "cell_type": "code",
   "execution_count": 47,
   "metadata": {},
   "outputs": [],
   "source": [
    "from sklearn.pipeline import Pipeline\n",
    "from sklearn.preprocessing import StandardScaler"
   ]
  },
  {
   "cell_type": "markdown",
   "metadata": {},
   "source": [
    "We create the pipeline by creating a list of tuples including the name of the model or estimator and its corresponding constructor.\n"
   ]
  },
  {
   "cell_type": "code",
   "execution_count": 48,
   "metadata": {},
   "outputs": [],
   "source": [
    "Input=[('scale',StandardScaler()), ('polynomial', PolynomialFeatures(include_bias=False)), ('model',LinearRegression())]"
   ]
  },
  {
   "cell_type": "markdown",
   "metadata": {},
   "source": [
    "We input the list as an argument to the pipeline constructor:\n"
   ]
  },
  {
   "cell_type": "code",
   "execution_count": 49,
   "metadata": {},
   "outputs": [
    {
     "data": {
      "text/html": [
       "<style>#sk-container-id-9 {color: black;background-color: white;}#sk-container-id-9 pre{padding: 0;}#sk-container-id-9 div.sk-toggleable {background-color: white;}#sk-container-id-9 label.sk-toggleable__label {cursor: pointer;display: block;width: 100%;margin-bottom: 0;padding: 0.3em;box-sizing: border-box;text-align: center;}#sk-container-id-9 label.sk-toggleable__label-arrow:before {content: \"▸\";float: left;margin-right: 0.25em;color: #696969;}#sk-container-id-9 label.sk-toggleable__label-arrow:hover:before {color: black;}#sk-container-id-9 div.sk-estimator:hover label.sk-toggleable__label-arrow:before {color: black;}#sk-container-id-9 div.sk-toggleable__content {max-height: 0;max-width: 0;overflow: hidden;text-align: left;background-color: #f0f8ff;}#sk-container-id-9 div.sk-toggleable__content pre {margin: 0.2em;color: black;border-radius: 0.25em;background-color: #f0f8ff;}#sk-container-id-9 input.sk-toggleable__control:checked~div.sk-toggleable__content {max-height: 200px;max-width: 100%;overflow: auto;}#sk-container-id-9 input.sk-toggleable__control:checked~label.sk-toggleable__label-arrow:before {content: \"▾\";}#sk-container-id-9 div.sk-estimator input.sk-toggleable__control:checked~label.sk-toggleable__label {background-color: #d4ebff;}#sk-container-id-9 div.sk-label input.sk-toggleable__control:checked~label.sk-toggleable__label {background-color: #d4ebff;}#sk-container-id-9 input.sk-hidden--visually {border: 0;clip: rect(1px 1px 1px 1px);clip: rect(1px, 1px, 1px, 1px);height: 1px;margin: -1px;overflow: hidden;padding: 0;position: absolute;width: 1px;}#sk-container-id-9 div.sk-estimator {font-family: monospace;background-color: #f0f8ff;border: 1px dotted black;border-radius: 0.25em;box-sizing: border-box;margin-bottom: 0.5em;}#sk-container-id-9 div.sk-estimator:hover {background-color: #d4ebff;}#sk-container-id-9 div.sk-parallel-item::after {content: \"\";width: 100%;border-bottom: 1px solid gray;flex-grow: 1;}#sk-container-id-9 div.sk-label:hover label.sk-toggleable__label {background-color: #d4ebff;}#sk-container-id-9 div.sk-serial::before {content: \"\";position: absolute;border-left: 1px solid gray;box-sizing: border-box;top: 0;bottom: 0;left: 50%;z-index: 0;}#sk-container-id-9 div.sk-serial {display: flex;flex-direction: column;align-items: center;background-color: white;padding-right: 0.2em;padding-left: 0.2em;position: relative;}#sk-container-id-9 div.sk-item {position: relative;z-index: 1;}#sk-container-id-9 div.sk-parallel {display: flex;align-items: stretch;justify-content: center;background-color: white;position: relative;}#sk-container-id-9 div.sk-item::before, #sk-container-id-9 div.sk-parallel-item::before {content: \"\";position: absolute;border-left: 1px solid gray;box-sizing: border-box;top: 0;bottom: 0;left: 50%;z-index: -1;}#sk-container-id-9 div.sk-parallel-item {display: flex;flex-direction: column;z-index: 1;position: relative;background-color: white;}#sk-container-id-9 div.sk-parallel-item:first-child::after {align-self: flex-end;width: 50%;}#sk-container-id-9 div.sk-parallel-item:last-child::after {align-self: flex-start;width: 50%;}#sk-container-id-9 div.sk-parallel-item:only-child::after {width: 0;}#sk-container-id-9 div.sk-dashed-wrapped {border: 1px dashed gray;margin: 0 0.4em 0.5em 0.4em;box-sizing: border-box;padding-bottom: 0.4em;background-color: white;}#sk-container-id-9 div.sk-label label {font-family: monospace;font-weight: bold;display: inline-block;line-height: 1.2em;}#sk-container-id-9 div.sk-label-container {text-align: center;}#sk-container-id-9 div.sk-container {/* jupyter's `normalize.less` sets `[hidden] { display: none; }` but bootstrap.min.css set `[hidden] { display: none !important; }` so we also need the `!important` here to be able to override the default hidden behavior on the sphinx rendered scikit-learn.org. See: https://github.com/scikit-learn/scikit-learn/issues/21755 */display: inline-block !important;position: relative;}#sk-container-id-9 div.sk-text-repr-fallback {display: none;}</style><div id=\"sk-container-id-9\" class=\"sk-top-container\"><div class=\"sk-text-repr-fallback\"><pre>Pipeline(steps=[(&#x27;scale&#x27;, StandardScaler()),\n",
       "                (&#x27;polynomial&#x27;, PolynomialFeatures(include_bias=False)),\n",
       "                (&#x27;model&#x27;, LinearRegression())])</pre><b>In a Jupyter environment, please rerun this cell to show the HTML representation or trust the notebook. <br />On GitHub, the HTML representation is unable to render, please try loading this page with nbviewer.org.</b></div><div class=\"sk-container\" hidden><div class=\"sk-item sk-dashed-wrapped\"><div class=\"sk-label-container\"><div class=\"sk-label sk-toggleable\"><input class=\"sk-toggleable__control sk-hidden--visually\" id=\"sk-estimator-id-9\" type=\"checkbox\" ><label for=\"sk-estimator-id-9\" class=\"sk-toggleable__label sk-toggleable__label-arrow\">Pipeline</label><div class=\"sk-toggleable__content\"><pre>Pipeline(steps=[(&#x27;scale&#x27;, StandardScaler()),\n",
       "                (&#x27;polynomial&#x27;, PolynomialFeatures(include_bias=False)),\n",
       "                (&#x27;model&#x27;, LinearRegression())])</pre></div></div></div><div class=\"sk-serial\"><div class=\"sk-item\"><div class=\"sk-estimator sk-toggleable\"><input class=\"sk-toggleable__control sk-hidden--visually\" id=\"sk-estimator-id-10\" type=\"checkbox\" ><label for=\"sk-estimator-id-10\" class=\"sk-toggleable__label sk-toggleable__label-arrow\">StandardScaler</label><div class=\"sk-toggleable__content\"><pre>StandardScaler()</pre></div></div></div><div class=\"sk-item\"><div class=\"sk-estimator sk-toggleable\"><input class=\"sk-toggleable__control sk-hidden--visually\" id=\"sk-estimator-id-11\" type=\"checkbox\" ><label for=\"sk-estimator-id-11\" class=\"sk-toggleable__label sk-toggleable__label-arrow\">PolynomialFeatures</label><div class=\"sk-toggleable__content\"><pre>PolynomialFeatures(include_bias=False)</pre></div></div></div><div class=\"sk-item\"><div class=\"sk-estimator sk-toggleable\"><input class=\"sk-toggleable__control sk-hidden--visually\" id=\"sk-estimator-id-12\" type=\"checkbox\" ><label for=\"sk-estimator-id-12\" class=\"sk-toggleable__label sk-toggleable__label-arrow\">LinearRegression</label><div class=\"sk-toggleable__content\"><pre>LinearRegression()</pre></div></div></div></div></div></div></div>"
      ],
      "text/plain": [
       "Pipeline(steps=[('scale', StandardScaler()),\n",
       "                ('polynomial', PolynomialFeatures(include_bias=False)),\n",
       "                ('model', LinearRegression())])"
      ]
     },
     "execution_count": 49,
     "metadata": {},
     "output_type": "execute_result"
    }
   ],
   "source": [
    "pipe=Pipeline(Input)\n",
    "pipe"
   ]
  },
  {
   "cell_type": "markdown",
   "metadata": {},
   "source": [
    "First, we convert the data type Z to type float to avoid conversion warnings that may appear as a result of StandardScaler taking float inputs.\n",
    "\n",
    "Then, we can normalize the data,  perform a transform and fit the model simultaneously.\n"
   ]
  },
  {
   "cell_type": "code",
   "execution_count": 50,
   "metadata": {},
   "outputs": [
    {
     "data": {
      "text/html": [
       "<style>#sk-container-id-10 {color: black;background-color: white;}#sk-container-id-10 pre{padding: 0;}#sk-container-id-10 div.sk-toggleable {background-color: white;}#sk-container-id-10 label.sk-toggleable__label {cursor: pointer;display: block;width: 100%;margin-bottom: 0;padding: 0.3em;box-sizing: border-box;text-align: center;}#sk-container-id-10 label.sk-toggleable__label-arrow:before {content: \"▸\";float: left;margin-right: 0.25em;color: #696969;}#sk-container-id-10 label.sk-toggleable__label-arrow:hover:before {color: black;}#sk-container-id-10 div.sk-estimator:hover label.sk-toggleable__label-arrow:before {color: black;}#sk-container-id-10 div.sk-toggleable__content {max-height: 0;max-width: 0;overflow: hidden;text-align: left;background-color: #f0f8ff;}#sk-container-id-10 div.sk-toggleable__content pre {margin: 0.2em;color: black;border-radius: 0.25em;background-color: #f0f8ff;}#sk-container-id-10 input.sk-toggleable__control:checked~div.sk-toggleable__content {max-height: 200px;max-width: 100%;overflow: auto;}#sk-container-id-10 input.sk-toggleable__control:checked~label.sk-toggleable__label-arrow:before {content: \"▾\";}#sk-container-id-10 div.sk-estimator input.sk-toggleable__control:checked~label.sk-toggleable__label {background-color: #d4ebff;}#sk-container-id-10 div.sk-label input.sk-toggleable__control:checked~label.sk-toggleable__label {background-color: #d4ebff;}#sk-container-id-10 input.sk-hidden--visually {border: 0;clip: rect(1px 1px 1px 1px);clip: rect(1px, 1px, 1px, 1px);height: 1px;margin: -1px;overflow: hidden;padding: 0;position: absolute;width: 1px;}#sk-container-id-10 div.sk-estimator {font-family: monospace;background-color: #f0f8ff;border: 1px dotted black;border-radius: 0.25em;box-sizing: border-box;margin-bottom: 0.5em;}#sk-container-id-10 div.sk-estimator:hover {background-color: #d4ebff;}#sk-container-id-10 div.sk-parallel-item::after {content: \"\";width: 100%;border-bottom: 1px solid gray;flex-grow: 1;}#sk-container-id-10 div.sk-label:hover label.sk-toggleable__label {background-color: #d4ebff;}#sk-container-id-10 div.sk-serial::before {content: \"\";position: absolute;border-left: 1px solid gray;box-sizing: border-box;top: 0;bottom: 0;left: 50%;z-index: 0;}#sk-container-id-10 div.sk-serial {display: flex;flex-direction: column;align-items: center;background-color: white;padding-right: 0.2em;padding-left: 0.2em;position: relative;}#sk-container-id-10 div.sk-item {position: relative;z-index: 1;}#sk-container-id-10 div.sk-parallel {display: flex;align-items: stretch;justify-content: center;background-color: white;position: relative;}#sk-container-id-10 div.sk-item::before, #sk-container-id-10 div.sk-parallel-item::before {content: \"\";position: absolute;border-left: 1px solid gray;box-sizing: border-box;top: 0;bottom: 0;left: 50%;z-index: -1;}#sk-container-id-10 div.sk-parallel-item {display: flex;flex-direction: column;z-index: 1;position: relative;background-color: white;}#sk-container-id-10 div.sk-parallel-item:first-child::after {align-self: flex-end;width: 50%;}#sk-container-id-10 div.sk-parallel-item:last-child::after {align-self: flex-start;width: 50%;}#sk-container-id-10 div.sk-parallel-item:only-child::after {width: 0;}#sk-container-id-10 div.sk-dashed-wrapped {border: 1px dashed gray;margin: 0 0.4em 0.5em 0.4em;box-sizing: border-box;padding-bottom: 0.4em;background-color: white;}#sk-container-id-10 div.sk-label label {font-family: monospace;font-weight: bold;display: inline-block;line-height: 1.2em;}#sk-container-id-10 div.sk-label-container {text-align: center;}#sk-container-id-10 div.sk-container {/* jupyter's `normalize.less` sets `[hidden] { display: none; }` but bootstrap.min.css set `[hidden] { display: none !important; }` so we also need the `!important` here to be able to override the default hidden behavior on the sphinx rendered scikit-learn.org. See: https://github.com/scikit-learn/scikit-learn/issues/21755 */display: inline-block !important;position: relative;}#sk-container-id-10 div.sk-text-repr-fallback {display: none;}</style><div id=\"sk-container-id-10\" class=\"sk-top-container\"><div class=\"sk-text-repr-fallback\"><pre>Pipeline(steps=[(&#x27;scale&#x27;, StandardScaler()),\n",
       "                (&#x27;polynomial&#x27;, PolynomialFeatures(include_bias=False)),\n",
       "                (&#x27;model&#x27;, LinearRegression())])</pre><b>In a Jupyter environment, please rerun this cell to show the HTML representation or trust the notebook. <br />On GitHub, the HTML representation is unable to render, please try loading this page with nbviewer.org.</b></div><div class=\"sk-container\" hidden><div class=\"sk-item sk-dashed-wrapped\"><div class=\"sk-label-container\"><div class=\"sk-label sk-toggleable\"><input class=\"sk-toggleable__control sk-hidden--visually\" id=\"sk-estimator-id-13\" type=\"checkbox\" ><label for=\"sk-estimator-id-13\" class=\"sk-toggleable__label sk-toggleable__label-arrow\">Pipeline</label><div class=\"sk-toggleable__content\"><pre>Pipeline(steps=[(&#x27;scale&#x27;, StandardScaler()),\n",
       "                (&#x27;polynomial&#x27;, PolynomialFeatures(include_bias=False)),\n",
       "                (&#x27;model&#x27;, LinearRegression())])</pre></div></div></div><div class=\"sk-serial\"><div class=\"sk-item\"><div class=\"sk-estimator sk-toggleable\"><input class=\"sk-toggleable__control sk-hidden--visually\" id=\"sk-estimator-id-14\" type=\"checkbox\" ><label for=\"sk-estimator-id-14\" class=\"sk-toggleable__label sk-toggleable__label-arrow\">StandardScaler</label><div class=\"sk-toggleable__content\"><pre>StandardScaler()</pre></div></div></div><div class=\"sk-item\"><div class=\"sk-estimator sk-toggleable\"><input class=\"sk-toggleable__control sk-hidden--visually\" id=\"sk-estimator-id-15\" type=\"checkbox\" ><label for=\"sk-estimator-id-15\" class=\"sk-toggleable__label sk-toggleable__label-arrow\">PolynomialFeatures</label><div class=\"sk-toggleable__content\"><pre>PolynomialFeatures(include_bias=False)</pre></div></div></div><div class=\"sk-item\"><div class=\"sk-estimator sk-toggleable\"><input class=\"sk-toggleable__control sk-hidden--visually\" id=\"sk-estimator-id-16\" type=\"checkbox\" ><label for=\"sk-estimator-id-16\" class=\"sk-toggleable__label sk-toggleable__label-arrow\">LinearRegression</label><div class=\"sk-toggleable__content\"><pre>LinearRegression()</pre></div></div></div></div></div></div></div>"
      ],
      "text/plain": [
       "Pipeline(steps=[('scale', StandardScaler()),\n",
       "                ('polynomial', PolynomialFeatures(include_bias=False)),\n",
       "                ('model', LinearRegression())])"
      ]
     },
     "execution_count": 50,
     "metadata": {},
     "output_type": "execute_result"
    }
   ],
   "source": [
    "Z = Z.astype(float)\n",
    "pipe.fit(Z,y)"
   ]
  },
  {
   "cell_type": "markdown",
   "metadata": {},
   "source": [
    "Similarly,  we can normalize the data, perform a transform and produce a prediction  simultaneously.\n"
   ]
  },
  {
   "cell_type": "code",
   "execution_count": 51,
   "metadata": {},
   "outputs": [
    {
     "data": {
      "text/plain": [
       "array([13102.74784201, 13102.74784201, 18225.54572197, 10390.29636555])"
      ]
     },
     "execution_count": 51,
     "metadata": {},
     "output_type": "execute_result"
    }
   ],
   "source": [
    "ypipe=pipe.predict(Z)\n",
    "ypipe[0:4]"
   ]
  },
  {
   "cell_type": "markdown",
   "metadata": {},
   "source": [
    "<div class=\"alert alert-block alert-info\" style=\"margin-top: 20px\">\n",
    "<h3>Question #5:</h3>\n",
    "<b>Create a pipeline that standardizes the data, then produce a prediction using a linear regression model using the features Z and target y.</b>\n",
    "</div>\n"
   ]
  },
  {
   "cell_type": "code",
   "execution_count": 52,
   "metadata": {},
   "outputs": [
    {
     "name": "stdout",
     "output_type": "stream",
     "text": [
      "Pipeline(steps=[('scale', StandardScaler()), ('model', LinearRegression())])\n",
      "yhat= [13699.11161184 13699.11161184 19051.65470233 10620.36193015\n",
      " 15521.31420211 13869.66673213 15456.16196732 15974.00907672\n",
      " 17612.35917161 10722.32509097 10722.32509097 17804.80307397\n",
      " 18063.72662867 19320.78745066 26968.56492801]\n"
     ]
    }
   ],
   "source": [
    "# Write your code below and press Shift+Enter to execute \n",
    "\n",
    "Input=[('scale',StandardScaler()), ('model',LinearRegression())]\n",
    "pipe=Pipeline(Input)\n",
    "print(pipe)\n",
    "\n",
    "pipe.fit(Z,y)\n",
    "yhat= pipe.predict(Z)\n",
    "print('yhat=',yhat[0:15])"
   ]
  },
  {
   "cell_type": "markdown",
   "metadata": {},
   "source": [
    "<details><summary>Click here for the solution</summary>\n",
    "\n",
    "```python\n",
    "Input=[('scale',StandardScaler()),('model',LinearRegression())]\n",
    "\n",
    "pipe=Pipeline(Input)\n",
    "\n",
    "pipe.fit(Z,y)\n",
    "\n",
    "ypipe=pipe.predict(Z)\n",
    "ypipe[0:10]\n",
    "\n",
    "```\n",
    "\n",
    "</details>\n"
   ]
  },
  {
   "cell_type": "markdown",
   "metadata": {},
   "source": [
    "<h2>4. Measures for In-Sample Evaluation</h2>\n"
   ]
  },
  {
   "cell_type": "markdown",
   "metadata": {},
   "source": [
    "<p>When evaluating our models, not only do we want to visualize the results, but we also want a quantitative measure to determine how accurate the model is.</p>\n",
    "\n",
    "<p>Two very important measures that are often used in Statistics to determine the accuracy of a model are:</p>\n",
    "<ul>\n",
    "    <li><b>R^2 / R-squared</b></li>\n",
    "    <li><b>Mean Squared Error (MSE)</b></li>\n",
    "</ul>\n",
    "\n",
    "<b>R-squared</b>\n",
    "\n",
    "<p>R squared, also known as the coefficient of determination, is a measure to indicate how close the data is to the fitted regression line.</p>\n",
    "\n",
    "<p>The value of the R-squared is the percentage of variation of the response variable (y) that is explained by a linear model.</p>\n",
    "\n",
    "<b>Mean Squared Error (MSE)</b>\n",
    "\n",
    "<p>The Mean Squared Error measures the average of the squares of errors. That is, the difference between actual value (y) and the estimated value (ŷ).</p>\n"
   ]
  },
  {
   "cell_type": "markdown",
   "metadata": {},
   "source": [
    "<h3>Model 1: Simple Linear Regression</h3>\n"
   ]
  },
  {
   "cell_type": "markdown",
   "metadata": {},
   "source": [
    "Let's calculate the R^2:\n"
   ]
  },
  {
   "cell_type": "code",
   "execution_count": 53,
   "metadata": {
    "scrolled": true
   },
   "outputs": [
    {
     "name": "stdout",
     "output_type": "stream",
     "text": [
      "The R-square is:  0.4965911884339176\n"
     ]
    }
   ],
   "source": [
    "#highway_mpg_fit\n",
    "lm.fit(X, Y)\n",
    "# Find the R^2\n",
    "print('The R-square is: ', lm.score(X, Y))"
   ]
  },
  {
   "cell_type": "markdown",
   "metadata": {},
   "source": [
    "We can say that \\~49.659% of the variation of the price is explained by this simple linear model \"horsepower_fit\".\n"
   ]
  },
  {
   "cell_type": "markdown",
   "metadata": {},
   "source": [
    "Let's calculate the MSE:\n"
   ]
  },
  {
   "cell_type": "markdown",
   "metadata": {},
   "source": [
    "We can predict the output i.e., \"yhat\" using the predict method, where X is the input variable:\n"
   ]
  },
  {
   "cell_type": "code",
   "execution_count": 54,
   "metadata": {},
   "outputs": [
    {
     "name": "stdout",
     "output_type": "stream",
     "text": [
      "The output of the first four predicted value is:  [16236.50464347 16236.50464347 17058.23802179 13771.3045085 ]\n"
     ]
    }
   ],
   "source": [
    "Yhat=lm.predict(X)\n",
    "print('The output of the first four predicted value is: ', Yhat[0:4])"
   ]
  },
  {
   "cell_type": "markdown",
   "metadata": {},
   "source": [
    "Let's import the function <b>mean_squared_error</b> from the module <b>metrics</b>:\n"
   ]
  },
  {
   "cell_type": "code",
   "execution_count": 55,
   "metadata": {},
   "outputs": [],
   "source": [
    "from sklearn.metrics import mean_squared_error"
   ]
  },
  {
   "cell_type": "markdown",
   "metadata": {},
   "source": [
    "We can compare the predicted results with the actual results:\n"
   ]
  },
  {
   "cell_type": "code",
   "execution_count": 56,
   "metadata": {},
   "outputs": [
    {
     "name": "stdout",
     "output_type": "stream",
     "text": [
      "The mean square error of price and predicted value is:  31635042.944639888\n"
     ]
    }
   ],
   "source": [
    "mse = mean_squared_error(df['price'], Yhat)\n",
    "print('The mean square error of price and predicted value is: ', mse)"
   ]
  },
  {
   "cell_type": "markdown",
   "metadata": {},
   "source": [
    "<h3>Model 2: Multiple Linear Regression</h3>\n"
   ]
  },
  {
   "cell_type": "markdown",
   "metadata": {},
   "source": [
    "Let's calculate the R^2:\n"
   ]
  },
  {
   "cell_type": "code",
   "execution_count": 57,
   "metadata": {},
   "outputs": [
    {
     "name": "stdout",
     "output_type": "stream",
     "text": [
      "The R-square is:  0.8093562806577458\n"
     ]
    }
   ],
   "source": [
    "# fit the model \n",
    "lm.fit(Z, df['price'])\n",
    "# Find the R^2\n",
    "print('The R-square is: ', lm.score(Z, df['price']))"
   ]
  },
  {
   "cell_type": "markdown",
   "metadata": {},
   "source": [
    "We can say that \\~80.896 % of the variation of price is explained by this multiple linear regression \"multi_fit\".\n"
   ]
  },
  {
   "cell_type": "markdown",
   "metadata": {},
   "source": [
    "Let's calculate the MSE.\n"
   ]
  },
  {
   "cell_type": "markdown",
   "metadata": {},
   "source": [
    "We produce a prediction:\n"
   ]
  },
  {
   "cell_type": "code",
   "execution_count": 58,
   "metadata": {},
   "outputs": [],
   "source": [
    "Y_predict_multifit = lm.predict(Z)"
   ]
  },
  {
   "cell_type": "markdown",
   "metadata": {},
   "source": [
    "We compare the predicted results with the actual results:\n"
   ]
  },
  {
   "cell_type": "code",
   "execution_count": 59,
   "metadata": {},
   "outputs": [
    {
     "name": "stdout",
     "output_type": "stream",
     "text": [
      "The mean square error of price and predicted value using multifit is:  11980366.870726489\n"
     ]
    }
   ],
   "source": [
    "print('The mean square error of price and predicted value using multifit is: ', \\\n",
    "      mean_squared_error(df['price'], Y_predict_multifit))"
   ]
  },
  {
   "cell_type": "markdown",
   "metadata": {},
   "source": [
    "<h3>Model 3: Polynomial Fit</h3>\n"
   ]
  },
  {
   "cell_type": "markdown",
   "metadata": {},
   "source": [
    "Let's calculate the R^2.\n"
   ]
  },
  {
   "cell_type": "markdown",
   "metadata": {},
   "source": [
    "Let’s import the function <b>r2\\_score</b> from the module <b>metrics</b> as we are using a different function.\n"
   ]
  },
  {
   "cell_type": "code",
   "execution_count": 60,
   "metadata": {},
   "outputs": [],
   "source": [
    "from sklearn.metrics import r2_score"
   ]
  },
  {
   "cell_type": "markdown",
   "metadata": {},
   "source": [
    "We apply the function to get the value of R^2:\n"
   ]
  },
  {
   "cell_type": "code",
   "execution_count": 61,
   "metadata": {},
   "outputs": [
    {
     "name": "stdout",
     "output_type": "stream",
     "text": [
      "The R-square value is:  0.674194666390652\n"
     ]
    }
   ],
   "source": [
    "r_squared = r2_score(y, p(x))\n",
    "print('The R-square value is: ', r_squared)"
   ]
  },
  {
   "cell_type": "markdown",
   "metadata": {},
   "source": [
    "We can say that \\~67.419 % of the variation of price is explained by this polynomial fit.\n"
   ]
  },
  {
   "cell_type": "markdown",
   "metadata": {},
   "source": [
    "<h3>MSE</h3>\n"
   ]
  },
  {
   "cell_type": "markdown",
   "metadata": {},
   "source": [
    "We can also calculate the MSE:\n"
   ]
  },
  {
   "cell_type": "code",
   "execution_count": 62,
   "metadata": {},
   "outputs": [
    {
     "data": {
      "text/plain": [
       "20474146.426361218"
      ]
     },
     "execution_count": 62,
     "metadata": {},
     "output_type": "execute_result"
    }
   ],
   "source": [
    "mean_squared_error(df['price'], p(x))"
   ]
  },
  {
   "cell_type": "markdown",
   "metadata": {},
   "source": [
    "<h2>5. Prediction and Decision Making</h2>\n",
    "<h3>Prediction</h3>\n",
    "\n",
    "<p>In the previous section, we trained the model using the method <b>fit</b>. Now we will use the method <b>predict</b> to produce a prediction. Lets import <b>pyplot</b> for plotting; we will also be using some functions from numpy.</p>\n"
   ]
  },
  {
   "cell_type": "code",
   "execution_count": 63,
   "metadata": {},
   "outputs": [],
   "source": [
    "import matplotlib.pyplot as plt\n",
    "import numpy as np\n",
    "\n",
    "%matplotlib inline "
   ]
  },
  {
   "cell_type": "code",
   "execution_count": 64,
   "metadata": {},
   "outputs": [
    {
     "data": {
      "text/plain": [
       "(highway-mpg    16\n",
       " dtype: int64,\n",
       " highway-mpg    54\n",
       " dtype: int64)"
      ]
     },
     "execution_count": 64,
     "metadata": {},
     "output_type": "execute_result"
    }
   ],
   "source": [
    "X.min(),X.max()"
   ]
  },
  {
   "cell_type": "code",
   "execution_count": 65,
   "metadata": {},
   "outputs": [
    {
     "data": {
      "text/html": [
       "<div>\n",
       "<style scoped>\n",
       "    .dataframe tbody tr th:only-of-type {\n",
       "        vertical-align: middle;\n",
       "    }\n",
       "\n",
       "    .dataframe tbody tr th {\n",
       "        vertical-align: top;\n",
       "    }\n",
       "\n",
       "    .dataframe thead th {\n",
       "        text-align: right;\n",
       "    }\n",
       "</style>\n",
       "<table border=\"1\" class=\"dataframe\">\n",
       "  <thead>\n",
       "    <tr style=\"text-align: right;\">\n",
       "      <th></th>\n",
       "      <th>highway-mpg</th>\n",
       "    </tr>\n",
       "  </thead>\n",
       "  <tbody>\n",
       "    <tr>\n",
       "      <th>0</th>\n",
       "      <td>27</td>\n",
       "    </tr>\n",
       "    <tr>\n",
       "      <th>1</th>\n",
       "      <td>27</td>\n",
       "    </tr>\n",
       "    <tr>\n",
       "      <th>2</th>\n",
       "      <td>26</td>\n",
       "    </tr>\n",
       "    <tr>\n",
       "      <th>3</th>\n",
       "      <td>30</td>\n",
       "    </tr>\n",
       "    <tr>\n",
       "      <th>4</th>\n",
       "      <td>22</td>\n",
       "    </tr>\n",
       "  </tbody>\n",
       "</table>\n",
       "</div>"
      ],
      "text/plain": [
       "   highway-mpg\n",
       "0           27\n",
       "1           27\n",
       "2           26\n",
       "3           30\n",
       "4           22"
      ]
     },
     "execution_count": 65,
     "metadata": {},
     "output_type": "execute_result"
    }
   ],
   "source": [
    "X.head()"
   ]
  },
  {
   "cell_type": "markdown",
   "metadata": {},
   "source": [
    "Create a new input:\n"
   ]
  },
  {
   "cell_type": "code",
   "execution_count": 66,
   "metadata": {},
   "outputs": [],
   "source": [
    "new_input=np.arange(12, 70, 1).reshape(-1, 1)\n",
    "new_input[0:10]\n",
    "X_new= pd.DataFrame(new_input, columns = ['highway-mpg'])"
   ]
  },
  {
   "cell_type": "markdown",
   "metadata": {},
   "source": [
    "Fit the model:\n"
   ]
  },
  {
   "cell_type": "code",
   "execution_count": 67,
   "metadata": {},
   "outputs": [
    {
     "data": {
      "text/html": [
       "<style>#sk-container-id-11 {color: black;background-color: white;}#sk-container-id-11 pre{padding: 0;}#sk-container-id-11 div.sk-toggleable {background-color: white;}#sk-container-id-11 label.sk-toggleable__label {cursor: pointer;display: block;width: 100%;margin-bottom: 0;padding: 0.3em;box-sizing: border-box;text-align: center;}#sk-container-id-11 label.sk-toggleable__label-arrow:before {content: \"▸\";float: left;margin-right: 0.25em;color: #696969;}#sk-container-id-11 label.sk-toggleable__label-arrow:hover:before {color: black;}#sk-container-id-11 div.sk-estimator:hover label.sk-toggleable__label-arrow:before {color: black;}#sk-container-id-11 div.sk-toggleable__content {max-height: 0;max-width: 0;overflow: hidden;text-align: left;background-color: #f0f8ff;}#sk-container-id-11 div.sk-toggleable__content pre {margin: 0.2em;color: black;border-radius: 0.25em;background-color: #f0f8ff;}#sk-container-id-11 input.sk-toggleable__control:checked~div.sk-toggleable__content {max-height: 200px;max-width: 100%;overflow: auto;}#sk-container-id-11 input.sk-toggleable__control:checked~label.sk-toggleable__label-arrow:before {content: \"▾\";}#sk-container-id-11 div.sk-estimator input.sk-toggleable__control:checked~label.sk-toggleable__label {background-color: #d4ebff;}#sk-container-id-11 div.sk-label input.sk-toggleable__control:checked~label.sk-toggleable__label {background-color: #d4ebff;}#sk-container-id-11 input.sk-hidden--visually {border: 0;clip: rect(1px 1px 1px 1px);clip: rect(1px, 1px, 1px, 1px);height: 1px;margin: -1px;overflow: hidden;padding: 0;position: absolute;width: 1px;}#sk-container-id-11 div.sk-estimator {font-family: monospace;background-color: #f0f8ff;border: 1px dotted black;border-radius: 0.25em;box-sizing: border-box;margin-bottom: 0.5em;}#sk-container-id-11 div.sk-estimator:hover {background-color: #d4ebff;}#sk-container-id-11 div.sk-parallel-item::after {content: \"\";width: 100%;border-bottom: 1px solid gray;flex-grow: 1;}#sk-container-id-11 div.sk-label:hover label.sk-toggleable__label {background-color: #d4ebff;}#sk-container-id-11 div.sk-serial::before {content: \"\";position: absolute;border-left: 1px solid gray;box-sizing: border-box;top: 0;bottom: 0;left: 50%;z-index: 0;}#sk-container-id-11 div.sk-serial {display: flex;flex-direction: column;align-items: center;background-color: white;padding-right: 0.2em;padding-left: 0.2em;position: relative;}#sk-container-id-11 div.sk-item {position: relative;z-index: 1;}#sk-container-id-11 div.sk-parallel {display: flex;align-items: stretch;justify-content: center;background-color: white;position: relative;}#sk-container-id-11 div.sk-item::before, #sk-container-id-11 div.sk-parallel-item::before {content: \"\";position: absolute;border-left: 1px solid gray;box-sizing: border-box;top: 0;bottom: 0;left: 50%;z-index: -1;}#sk-container-id-11 div.sk-parallel-item {display: flex;flex-direction: column;z-index: 1;position: relative;background-color: white;}#sk-container-id-11 div.sk-parallel-item:first-child::after {align-self: flex-end;width: 50%;}#sk-container-id-11 div.sk-parallel-item:last-child::after {align-self: flex-start;width: 50%;}#sk-container-id-11 div.sk-parallel-item:only-child::after {width: 0;}#sk-container-id-11 div.sk-dashed-wrapped {border: 1px dashed gray;margin: 0 0.4em 0.5em 0.4em;box-sizing: border-box;padding-bottom: 0.4em;background-color: white;}#sk-container-id-11 div.sk-label label {font-family: monospace;font-weight: bold;display: inline-block;line-height: 1.2em;}#sk-container-id-11 div.sk-label-container {text-align: center;}#sk-container-id-11 div.sk-container {/* jupyter's `normalize.less` sets `[hidden] { display: none; }` but bootstrap.min.css set `[hidden] { display: none !important; }` so we also need the `!important` here to be able to override the default hidden behavior on the sphinx rendered scikit-learn.org. See: https://github.com/scikit-learn/scikit-learn/issues/21755 */display: inline-block !important;position: relative;}#sk-container-id-11 div.sk-text-repr-fallback {display: none;}</style><div id=\"sk-container-id-11\" class=\"sk-top-container\"><div class=\"sk-text-repr-fallback\"><pre>LinearRegression()</pre><b>In a Jupyter environment, please rerun this cell to show the HTML representation or trust the notebook. <br />On GitHub, the HTML representation is unable to render, please try loading this page with nbviewer.org.</b></div><div class=\"sk-container\" hidden><div class=\"sk-item\"><div class=\"sk-estimator sk-toggleable\"><input class=\"sk-toggleable__control sk-hidden--visually\" id=\"sk-estimator-id-17\" type=\"checkbox\" checked><label for=\"sk-estimator-id-17\" class=\"sk-toggleable__label sk-toggleable__label-arrow\">LinearRegression</label><div class=\"sk-toggleable__content\"><pre>LinearRegression()</pre></div></div></div></div></div>"
      ],
      "text/plain": [
       "LinearRegression()"
      ]
     },
     "execution_count": 67,
     "metadata": {},
     "output_type": "execute_result"
    }
   ],
   "source": [
    "lm.fit(X, Y)\n",
    "lm"
   ]
  },
  {
   "cell_type": "markdown",
   "metadata": {},
   "source": [
    "Produce a prediction:"
   ]
  },
  {
   "cell_type": "code",
   "execution_count": 68,
   "metadata": {},
   "outputs": [
    {
     "data": {
      "text/plain": [
       "array([28562.50531829, 27740.77193997, 26919.03856165, 26097.30518333,\n",
       "       25275.57180501])"
      ]
     },
     "execution_count": 68,
     "metadata": {},
     "output_type": "execute_result"
    }
   ],
   "source": [
    "yhat=lm.predict(X_new)\n",
    "yhat[0:5]\n"
   ]
  },
  {
   "cell_type": "markdown",
   "metadata": {},
   "source": [
    "We can plot the data:\n"
   ]
  },
  {
   "cell_type": "code",
   "execution_count": 69,
   "metadata": {},
   "outputs": [
    {
     "data": {
      "image/png": "[encoded data removed]",
      "text/plain": [
       "<Figure size 432x288 with 1 Axes>"
      ]
     },
     "metadata": {
      "needs_background": "light"
     },
     "output_type": "display_data"
    }
   ],
   "source": [
    "plt.plot(X_new, yhat)\n",
    "plt.xlabel('Highway-mpg - new input', fontsize=12, weight='bold')\n",
    "plt.ylabel('Price (US$)', fontsize=12, weight='bold')\n",
    "plt.title('Linear regression - Prediction Car price (US$) v. highway-mpg',fontsize=14,weight='bold')\n",
    "plt.grid()\n",
    "plt.show()"
   ]
  },
  {
   "cell_type": "markdown",
   "metadata": {},
   "source": [
    "<span style=\"color:#4169E1\"> Negative prices are not acceptable solutions. The linear regression model fails to predict prices over highway-mpg= 35. <br> \n",
    "We should implement a polynomial regression instead. Order 3 or more.  Order 11 tends to overfit the data. <br>\n",
    "We try order 4. "
   ]
  },
  {
   "cell_type": "code",
   "execution_count": 70,
   "metadata": {},
   "outputs": [
    {
     "name": "stdout",
     "output_type": "stream",
     "text": [
      "         4        3       2\n",
      "0.02651 x - 5.17 x + 382 x - 1.267e+04 x + 1.657e+05\n"
     ]
    },
    {
     "data": {
      "image/png": "[encoded data removed]",
      "text/plain": [
       "<Figure size 432x288 with 1 Axes>"
      ]
     },
     "metadata": {
      "needs_background": "light"
     },
     "output_type": "display_data"
    }
   ],
   "source": [
    "f4= np.polyfit(x, y, 4)\n",
    "p4 = np.poly1d(f4)\n",
    "print(p4)\n",
    "PlotPolly(p4, X, y, 'highway-mpg')"
   ]
  },
  {
   "cell_type": "code",
   "execution_count": 71,
   "metadata": {},
   "outputs": [
    {
     "data": {
      "text/plain": [
       "array([[60285.16508893],\n",
       "       [54949.85724359],\n",
       "       [50029.04828312],\n",
       "       [45500.30646146],\n",
       "       [41341.83624464]])"
      ]
     },
     "execution_count": 71,
     "metadata": {},
     "output_type": "execute_result"
    }
   ],
   "source": [
    "model_poly4 = np.poly1d(np.polyfit(x, y, 4))\n",
    "#-----\n",
    "yhat=model_poly4(X_new)\n",
    "yhat[0:5]"
   ]
  },
  {
   "cell_type": "code",
   "execution_count": 72,
   "metadata": {},
   "outputs": [
    {
     "data": {
      "image/png": "[encoded data removed]",
      "text/plain": [
       "<Figure size 432x288 with 1 Axes>"
      ]
     },
     "metadata": {
      "needs_background": "light"
     },
     "output_type": "display_data"
    }
   ],
   "source": [
    "plt.plot(X_new, yhat)\n",
    "plt.xlabel('Highway-mpg - new input', fontsize=12, weight='bold')\n",
    "plt.ylabel('Price (US$)', fontsize=12, weight='bold')\n",
    "plt.title('Polynomial regression - Prediction Car price (US$) v. highway-mpg',fontsize=14,weight='bold')\n",
    "plt.grid()\n",
    "plt.show()"
   ]
  },
  {
   "cell_type": "markdown",
   "metadata": {},
   "source": [
    "<span style=\"color:#4169E1\"> We expect the model to be accurate up to 55 mpg. <br>  We shoud implement some kind of hyperbolic or exponential fit for accurate predictions over 55 mpg.   "
   ]
  },
  {
   "cell_type": "code",
   "execution_count": 73,
   "metadata": {},
   "outputs": [],
   "source": [
    "def exp_fit(x, a, b, c): \n",
    "    return a*np.exp(b*x)+c\n",
    "\n",
    "def hyp_fit(x, a, b): \n",
    "    return a/x + b \n",
    "\n",
    "def hyp_fit2(x, a, b, c): \n",
    "    return a/x**2 + b/x  +  c "
   ]
  },
  {
   "cell_type": "code",
   "execution_count": 81,
   "metadata": {},
   "outputs": [],
   "source": [
    "from scipy.optimize import curve_fit\n",
    "\n",
    "pa, pa_cov = curve_fit(hyp_fit, x, y) \n",
    "pa2, pa2_cov = curve_fit(hyp_fit2, x, y) "
   ]
  },
  {
   "cell_type": "code",
   "execution_count": 82,
   "metadata": {},
   "outputs": [
    {
     "data": {
      "text/plain": [
       "(array([ 1.46932490e+07, -2.90037832e+05,  5.01937003e+03]),\n",
       " array([[ 1.12904601e+13, -8.47426262e+11,  1.50894589e+10],\n",
       "        [-8.47426262e+11,  6.53033837e+10, -1.19070462e+09],\n",
       "        [ 1.50894589e+10, -1.19070462e+09,  2.22606883e+07]]))"
      ]
     },
     "execution_count": 82,
     "metadata": {},
     "output_type": "execute_result"
    }
   ],
   "source": [
    "#pa2,pa2_cov"
   ]
  },
  {
   "cell_type": "code",
   "execution_count": 83,
   "metadata": {},
   "outputs": [],
   "source": [
    "y_hyp_hat= pa[0]/X_new + pa[1]\n",
    "y_hyp_hat2= pa2[0]/X_new**2 + pa2[1]/X_new + pa2[2]"
   ]
  },
  {
   "cell_type": "code",
   "execution_count": 84,
   "metadata": {},
   "outputs": [
    {
     "data": {
      "image/png": "[encoded data removed]",
      "text/plain": [
       "<Figure size 432x288 with 1 Axes>"
      ]
     },
     "metadata": {
      "needs_background": "light"
     },
     "output_type": "display_data"
    }
   ],
   "source": [
    "plt.plot(X_new, yhat)\n",
    "plt.plot(X_new, y_hyp_hat,'g')\n",
    "plt.plot(X_new, y_hyp_hat2,'r')\n",
    "plt.scatter(x,y,marker='.')\n",
    "#------\n",
    "plt.legend(['Polynomials order 4', 'Hyperbolic type 1', 'Hyperbolic type 2','data'])\n",
    "plt.xlabel('Highway-mpg - new input', fontsize=12, weight='bold')\n",
    "plt.ylabel('Price (US$)', fontsize=12, weight='bold')\n",
    "plt.title('Prediction Car price (US$) v. highway-mpg',fontsize=14,weight='bold')\n",
    "plt.grid()\n",
    "plt.show()"
   ]
  },
  {
   "cell_type": "markdown",
   "metadata": {},
   "source": [
    "<span style=\"color:#4169E1\"> A quadratic hyperbolic model (in red) will improve price prediction of high mpg vehicles. But may degrade prediction for low mpg. "
   ]
  },
  {
   "cell_type": "markdown",
   "metadata": {},
   "source": [
    "<h3>Decision Making: Determining a Good Model Fit</h3>\n"
   ]
  },
  {
   "cell_type": "markdown",
   "metadata": {},
   "source": [
    "<p>Now that we have visualized the different models, and generated the R-squared and MSE values for the fits, how do we determine a good model fit?\n",
    "<ul>\n",
    "    <li><i>What is a good R-squared value?</i></li>\n",
    "</ul>\n",
    "</p>\n",
    "\n",
    "<p>When comparing models, <b>the model with the higher R-squared value is a better fit</b> for the data.\n",
    "<ul>\n",
    "    <li><i>What is a good MSE?</i></li>\n",
    "</ul>\n",
    "</p>\n",
    "\n",
    "<p>When comparing models, <b>the model with the smallest MSE value is a better fit</b> for the data.</p>\n",
    "\n",
    "<h4>Let's take a look at the values for the different models.</h4>\n",
    "<p>Simple Linear Regression: Using Highway-mpg as a Predictor Variable of Price.\n",
    "<ul>\n",
    "    <li>R-squared: 0.49659118843391759</li>\n",
    "    <li>MSE: 3.16 x10^7</li>\n",
    "</ul>\n",
    "</p>\n",
    "\n",
    "<p>Multiple Linear Regression: Using Horsepower, Curb-weight, Engine-size, and Highway-mpg as Predictor Variables of Price.\n",
    "<ul>\n",
    "    <li>R-squared: 0.80896354913783497</li>\n",
    "    <li>MSE: 1.2 x10^7</li>\n",
    "</ul>\n",
    "</p>\n",
    "\n",
    "<p>Polynomial Fit: Using Highway-mpg as a Predictor Variable of Price.\n",
    "<ul>\n",
    "    <li>R-squared: 0.6741946663906514</li>\n",
    "    <li>MSE: 2.05 x 10^7</li>\n",
    "</ul>\n",
    "</p>\n"
   ]
  },
  {
   "cell_type": "markdown",
   "metadata": {},
   "source": [
    "<h3>Simple Linear Regression Model (SLR) vs Multiple Linear Regression Model (MLR)</h3>\n"
   ]
  },
  {
   "cell_type": "markdown",
   "metadata": {},
   "source": [
    "<p>Usually, the more variables you have, the better your model is at predicting, but this is not always true. Sometimes you may not have enough data, you may run into numerical problems, or many of the variables may not be useful and even act as noise. As a result, you should always check the MSE and R^2.</p>\n",
    "\n",
    "<p>In order to compare the results of the MLR vs SLR models, we look at a combination of both the R-squared and MSE to make the best conclusion about the fit of the model.\n",
    "<ul>\n",
    "    <li><b>MSE</b>: The MSE of SLR is  3.16x10^7  while MLR has an MSE of 1.2 x10^7.  The MSE of MLR is much smaller.</li>\n",
    "    <li><b>R-squared</b>: In this case, we can also see that there is a big difference between the R-squared of the SLR and the R-squared of the MLR. The R-squared for the SLR (~0.497) is very small compared to the R-squared for the MLR (~0.809).</li>\n",
    "</ul>\n",
    "</p>\n",
    "\n",
    "This R-squared in combination with the MSE show that MLR seems like the better model fit in this case compared to SLR.\n"
   ]
  },
  {
   "cell_type": "markdown",
   "metadata": {},
   "source": [
    "<h3>Simple Linear Model (SLR) vs. Polynomial Fit</h3>\n"
   ]
  },
  {
   "cell_type": "markdown",
   "metadata": {},
   "source": [
    "<ul>\n",
    "    <li><b>MSE</b>: We can see that Polynomial Fit brought down the MSE, since this MSE is smaller than the one from the SLR.</li> \n",
    "    <li><b>R-squared</b>: The R-squared for the Polynomial Fit is larger than the R-squared for the SLR, so the Polynomial Fit also brought up the R-squared quite a bit.</li>\n",
    "</ul>\n",
    "<p>Since the Polynomial Fit resulted in a lower MSE and a higher R-squared, we can conclude that this was a better fit model than the simple linear regression for predicting \"price\" with \"highway-mpg\" as a predictor variable.</p>\n"
   ]
  },
  {
   "cell_type": "markdown",
   "metadata": {},
   "source": [
    "<h3>Multiple Linear Regression (MLR) vs. Polynomial Fit</h3>\n"
   ]
  },
  {
   "cell_type": "markdown",
   "metadata": {},
   "source": [
    "<ul>\n",
    "    <li><b>MSE</b>: The MSE for the MLR is smaller than the MSE for the Polynomial Fit.</li>\n",
    "    <li><b>R-squared</b>: The R-squared for the MLR is also much larger than for the Polynomial Fit.</li>\n",
    "</ul>\n"
   ]
  },
  {
   "cell_type": "markdown",
   "metadata": {},
   "source": [
    "<h2>Conclusion</h2>\n"
   ]
  },
  {
   "cell_type": "markdown",
   "metadata": {},
   "source": [
    "<p>Comparing these three models, we conclude that <b>the MLR model is the best model</b> to be able to predict price from our dataset. This result makes sense since we have 27 variables in total and we know that more than one of those variables are potential predictors of the final car price.</p>\n"
   ]
  },
  {
   "cell_type": "markdown",
   "metadata": {},
   "source": [
    "### Thank you for completing this lab!\n",
    "\n",
    "## Author\n",
    "\n",
    "<a href=\"https://www.linkedin.com/in/joseph-s-50398b136/?utm_medium=Exinfluencer&utm_source=Exinfluencer&utm_content=000026UJ&utm_term=10006555&utm_id=NA-SkillsNetwork-Channel-SkillsNetworkCoursesIBMDeveloperSkillsNetworkDA0101ENSkillsNetwork20235326-2021-01-01\" target=\"_blank\">Joseph Santarcangelo</a>\n",
    "\n",
    "### Other Contributors\n",
    "\n",
    "<a href=\"https://www.linkedin.com/in/mahdi-noorian-58219234/?utm_medium=Exinfluencer&utm_source=Exinfluencer&utm_content=000026UJ&utm_term=10006555&utm_id=NA-SkillsNetwork-Channel-SkillsNetworkCoursesIBMDeveloperSkillsNetworkDA0101ENSkillsNetwork20235326-2021-01-01\" target=\"_blank\">Mahdi Noorian PhD</a>\n",
    "\n",
    "Bahare Talayian\n",
    "\n",
    "Eric Xiao\n",
    "\n",
    "Steven Dong\n",
    "\n",
    "Parizad\n",
    "\n",
    "Hima Vasudevan\n",
    "\n",
    "<a href=\"https://www.linkedin.com/in/fiorellawever/?utm_medium=Exinfluencer&utm_source=Exinfluencer&utm_content=000026UJ&utm_term=10006555&utm_id=NA-SkillsNetwork-Channel-SkillsNetworkCoursesIBMDeveloperSkillsNetworkDA0101ENSkillsNetwork20235326-2021-01-01\" target=\"_blank\">Fiorella Wenver</a>\n",
    "\n",
    "<a href=\"https:// https://www.linkedin.com/in/yi-leng-yao-84451275/ \" target=\"_blank\" >Yi Yao</a>.\n",
    "\n",
    "## Change Log\n",
    "\n",
    "| Date (YYYY-MM-DD) | Version | Changed By | Change Description                            |\n",
    "| ----------------- | ------- | ---------- | --------------------------------------------- |\n",
    "| 2020-10-30        | 2.2     | Lakshmi    | Changed url of csv                            |\n",
    "| 2020-09-09        | 2.1     | Lakshmi    | Fixes made in Polynomial Regression Equations |\n",
    "| 2020-08-27        | 2.0     | Lavanya    | Moved lab to course repo in GitLab            |\n",
    "\n",
    "<hr>\n",
    "\n",
    "## <h3 align=\"center\"> © IBM Corporation 2020. All rights reserved. <h3/>\n"
   ]
  }
 ],
 "metadata": {
  "kernelspec": {
   "display_name": "Python 3 (ipykernel)",
   "language": "python",
   "name": "python3"
  },
  "language_info": {
   "codemirror_mode": {
    "name": "ipython",
    "version": 3
   },
   "file_extension": ".py",
   "mimetype": "text/x-python",
   "name": "python",
   "nbconvert_exporter": "python",
   "pygments_lexer": "ipython3",
   "version": "3.9.7"
  }
 },
 "nbformat": 4,
 "nbformat_minor": 4
}
